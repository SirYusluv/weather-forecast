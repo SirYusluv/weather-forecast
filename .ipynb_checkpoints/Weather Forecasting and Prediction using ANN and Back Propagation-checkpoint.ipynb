{
 "cells": [
  {
   "cell_type": "code",
   "execution_count": 2,
   "id": "ceb119bf",
   "metadata": {},
   "outputs": [],
   "source": [
    "import numpy as np\n",
    "import pandas as pd\n",
    "import matplotlib.pyplot as plt\n",
    "\n",
    "import urllib.request\n",
    "from geopy.geocoders import Nominatim\n",
    "\n",
    "pd.set_option('display.max_columns', None)"
   ]
  },
  {
   "cell_type": "markdown",
   "id": "71c2ddab",
   "metadata": {},
   "source": [
    "#### Start date and an End date is needed to get weather data for that date range\n",
    "#### The data will be used in training our model"
   ]
  },
  {
   "cell_type": "code",
   "execution_count": 2,
   "id": "6a1fd608",
   "metadata": {},
   "outputs": [
    {
     "name": "stdout",
     "output_type": "stream",
     "text": [
      "Enter start date in format yyyy/mm//dd2013/01/01\n",
      "Enter end date in format yyyy/mm//dd2022/12/15\n"
     ]
    }
   ],
   "source": [
    "start_date = input(\"Enter start date in format yyyy/mm//dd\")\n",
    "end_date = input(\"Enter end date in format yyyy/mm//dd\")\n",
    "\n",
    "start_date = start_date.replace('/', '')\n",
    "end_date = end_date.replace('/', '')"
   ]
  },
  {
   "cell_type": "code",
   "execution_count": 3,
   "id": "12014a09",
   "metadata": {},
   "outputs": [
    {
     "name": "stdout",
     "output_type": "stream",
     "text": [
      "Enter location in the format city/stateIsolo, Lagos\n"
     ]
    }
   ],
   "source": [
    "address = input(\"Enter location in the format city/state\")"
   ]
  },
  {
   "cell_type": "code",
   "execution_count": 5,
   "id": "b1b10849",
   "metadata": {},
   "outputs": [
    {
     "name": "stdout",
     "output_type": "stream",
     "text": [
      "Isolo, Oshodi/Isolo, Lagos, 100263, Nigeria\n",
      "6.5291605 3.3217235\n"
     ]
    }
   ],
   "source": [
    "geolocator = Nominatim(user_agent=\"AI\")\n",
    "location = geolocator.geocode(address)\n",
    "print(location.address)\n",
    "print(location.latitude, location.longitude)\n",
    "latitude = location.latitude\n",
    "longitude = location.longitude"
   ]
  },
  {
   "cell_type": "markdown",
   "id": "a4e35740",
   "metadata": {},
   "source": [
    "#### We will be using the NASA weather API\n",
    "#### The weather parameter are: Max and Min Temp, Rel. Humidity, precipitation, surface pressure and Wind speed at 10 meter range "
   ]
  },
  {
   "cell_type": "code",
   "execution_count": 12,
   "id": "0281313e",
   "metadata": {},
   "outputs": [
    {
     "data": {
      "text/plain": [
       "('weather.csv', <http.client.HTTPMessage at 0x20d6e971330>)"
      ]
     },
     "execution_count": 12,
     "metadata": {},
     "output_type": "execute_result"
    }
   ],
   "source": [
    "url = f'https://power.larc.nasa.gov/api/temporal/daily/point?parameters=T2M_MAX,T2M_MIN,RH2M,PRECTOTCORR,PS,WS10M_RANGE&community=AG&longitude={longitude}&latitude={latitude}&start={start_date}&end={end_date}&format=ASCII&wind-surface=SeaIce&wind-elevation=50&site-elevation=50&format=CSV'\n",
    "\n",
    "urllib.request.urlretrieve(url, 'weather.csv')"
   ]
  },
  {
   "cell_type": "code",
   "execution_count": 3,
   "id": "0f757584",
   "metadata": {},
   "outputs": [
    {
     "data": {
      "text/html": [
       "<div>\n",
       "<style scoped>\n",
       "    .dataframe tbody tr th:only-of-type {\n",
       "        vertical-align: middle;\n",
       "    }\n",
       "\n",
       "    .dataframe tbody tr th {\n",
       "        vertical-align: top;\n",
       "    }\n",
       "\n",
       "    .dataframe thead th {\n",
       "        text-align: right;\n",
       "    }\n",
       "</style>\n",
       "<table border=\"1\" class=\"dataframe\">\n",
       "  <thead>\n",
       "    <tr style=\"text-align: right;\">\n",
       "      <th></th>\n",
       "      <th>YEAR</th>\n",
       "      <th>DOY</th>\n",
       "      <th>T2M_MAX</th>\n",
       "      <th>T2M_MIN</th>\n",
       "      <th>RH2M</th>\n",
       "      <th>PRECTOTCORR</th>\n",
       "      <th>PS</th>\n",
       "      <th>WS10M_RANGE</th>\n",
       "      <th>PSC</th>\n",
       "      <th>WSC</th>\n",
       "    </tr>\n",
       "  </thead>\n",
       "  <tbody>\n",
       "    <tr>\n",
       "      <th>0</th>\n",
       "      <td>2013</td>\n",
       "      <td>1</td>\n",
       "      <td>28.53</td>\n",
       "      <td>18.73</td>\n",
       "      <td>69.19</td>\n",
       "      <td>0.0</td>\n",
       "      <td>100.71</td>\n",
       "      <td>2.81</td>\n",
       "      <td>100.43</td>\n",
       "      <td>4.14</td>\n",
       "    </tr>\n",
       "    <tr>\n",
       "      <th>1</th>\n",
       "      <td>2013</td>\n",
       "      <td>2</td>\n",
       "      <td>28.36</td>\n",
       "      <td>19.99</td>\n",
       "      <td>66.31</td>\n",
       "      <td>0.0</td>\n",
       "      <td>100.83</td>\n",
       "      <td>2.28</td>\n",
       "      <td>100.55</td>\n",
       "      <td>3.72</td>\n",
       "    </tr>\n",
       "    <tr>\n",
       "      <th>2</th>\n",
       "      <td>2013</td>\n",
       "      <td>3</td>\n",
       "      <td>29.44</td>\n",
       "      <td>21.20</td>\n",
       "      <td>62.62</td>\n",
       "      <td>0.0</td>\n",
       "      <td>100.93</td>\n",
       "      <td>2.94</td>\n",
       "      <td>100.65</td>\n",
       "      <td>2.75</td>\n",
       "    </tr>\n",
       "    <tr>\n",
       "      <th>3</th>\n",
       "      <td>2013</td>\n",
       "      <td>4</td>\n",
       "      <td>29.04</td>\n",
       "      <td>21.73</td>\n",
       "      <td>64.38</td>\n",
       "      <td>0.0</td>\n",
       "      <td>100.97</td>\n",
       "      <td>1.79</td>\n",
       "      <td>100.69</td>\n",
       "      <td>2.52</td>\n",
       "    </tr>\n",
       "    <tr>\n",
       "      <th>4</th>\n",
       "      <td>2013</td>\n",
       "      <td>5</td>\n",
       "      <td>29.28</td>\n",
       "      <td>23.69</td>\n",
       "      <td>66.69</td>\n",
       "      <td>0.0</td>\n",
       "      <td>100.88</td>\n",
       "      <td>2.47</td>\n",
       "      <td>100.60</td>\n",
       "      <td>3.04</td>\n",
       "    </tr>\n",
       "  </tbody>\n",
       "</table>\n",
       "</div>"
      ],
      "text/plain": [
       "   YEAR  DOY  T2M_MAX  T2M_MIN   RH2M  PRECTOTCORR      PS  WS10M_RANGE  \\\n",
       "0  2013    1    28.53    18.73  69.19          0.0  100.71         2.81   \n",
       "1  2013    2    28.36    19.99  66.31          0.0  100.83         2.28   \n",
       "2  2013    3    29.44    21.20  62.62          0.0  100.93         2.94   \n",
       "3  2013    4    29.04    21.73  64.38          0.0  100.97         1.79   \n",
       "4  2013    5    29.28    23.69  66.69          0.0  100.88         2.47   \n",
       "\n",
       "      PSC   WSC  \n",
       "0  100.43  4.14  \n",
       "1  100.55  3.72  \n",
       "2  100.65  2.75  \n",
       "3  100.69  2.52  \n",
       "4  100.60  3.04  "
      ]
     },
     "execution_count": 3,
     "metadata": {},
     "output_type": "execute_result"
    }
   ],
   "source": [
    "df = pd.read_csv('weather.csv', skiprows=18)\n",
    "df.head()"
   ]
  },
  {
   "cell_type": "markdown",
   "id": "3f178ca4",
   "metadata": {},
   "source": [
    "#### Data processing"
   ]
  },
  {
   "cell_type": "code",
   "execution_count": 4,
   "id": "031e1a35",
   "metadata": {},
   "outputs": [
    {
     "data": {
      "text/html": [
       "<div>\n",
       "<style scoped>\n",
       "    .dataframe tbody tr th:only-of-type {\n",
       "        vertical-align: middle;\n",
       "    }\n",
       "\n",
       "    .dataframe tbody tr th {\n",
       "        vertical-align: top;\n",
       "    }\n",
       "\n",
       "    .dataframe thead th {\n",
       "        text-align: right;\n",
       "    }\n",
       "</style>\n",
       "<table border=\"1\" class=\"dataframe\">\n",
       "  <thead>\n",
       "    <tr style=\"text-align: right;\">\n",
       "      <th></th>\n",
       "      <th>YEAR</th>\n",
       "      <th>DOY</th>\n",
       "      <th>T2M_MAX</th>\n",
       "      <th>T2M_MIN</th>\n",
       "      <th>RH2M</th>\n",
       "      <th>PRECTOTCORR</th>\n",
       "      <th>PS</th>\n",
       "      <th>WS10M_RANGE</th>\n",
       "      <th>PSC</th>\n",
       "      <th>WSC</th>\n",
       "      <th>DATE</th>\n",
       "    </tr>\n",
       "  </thead>\n",
       "  <tbody>\n",
       "    <tr>\n",
       "      <th>0</th>\n",
       "      <td>2013</td>\n",
       "      <td>1</td>\n",
       "      <td>28.53</td>\n",
       "      <td>18.73</td>\n",
       "      <td>69.19</td>\n",
       "      <td>0.0</td>\n",
       "      <td>100.71</td>\n",
       "      <td>2.81</td>\n",
       "      <td>100.43</td>\n",
       "      <td>4.14</td>\n",
       "      <td>2013/1</td>\n",
       "    </tr>\n",
       "    <tr>\n",
       "      <th>1</th>\n",
       "      <td>2013</td>\n",
       "      <td>2</td>\n",
       "      <td>28.36</td>\n",
       "      <td>19.99</td>\n",
       "      <td>66.31</td>\n",
       "      <td>0.0</td>\n",
       "      <td>100.83</td>\n",
       "      <td>2.28</td>\n",
       "      <td>100.55</td>\n",
       "      <td>3.72</td>\n",
       "      <td>2013/2</td>\n",
       "    </tr>\n",
       "    <tr>\n",
       "      <th>2</th>\n",
       "      <td>2013</td>\n",
       "      <td>3</td>\n",
       "      <td>29.44</td>\n",
       "      <td>21.20</td>\n",
       "      <td>62.62</td>\n",
       "      <td>0.0</td>\n",
       "      <td>100.93</td>\n",
       "      <td>2.94</td>\n",
       "      <td>100.65</td>\n",
       "      <td>2.75</td>\n",
       "      <td>2013/3</td>\n",
       "    </tr>\n",
       "    <tr>\n",
       "      <th>3</th>\n",
       "      <td>2013</td>\n",
       "      <td>4</td>\n",
       "      <td>29.04</td>\n",
       "      <td>21.73</td>\n",
       "      <td>64.38</td>\n",
       "      <td>0.0</td>\n",
       "      <td>100.97</td>\n",
       "      <td>1.79</td>\n",
       "      <td>100.69</td>\n",
       "      <td>2.52</td>\n",
       "      <td>2013/4</td>\n",
       "    </tr>\n",
       "    <tr>\n",
       "      <th>4</th>\n",
       "      <td>2013</td>\n",
       "      <td>5</td>\n",
       "      <td>29.28</td>\n",
       "      <td>23.69</td>\n",
       "      <td>66.69</td>\n",
       "      <td>0.0</td>\n",
       "      <td>100.88</td>\n",
       "      <td>2.47</td>\n",
       "      <td>100.60</td>\n",
       "      <td>3.04</td>\n",
       "      <td>2013/5</td>\n",
       "    </tr>\n",
       "  </tbody>\n",
       "</table>\n",
       "</div>"
      ],
      "text/plain": [
       "   YEAR DOY  T2M_MAX  T2M_MIN   RH2M  PRECTOTCORR      PS  WS10M_RANGE  \\\n",
       "0  2013   1    28.53    18.73  69.19          0.0  100.71         2.81   \n",
       "1  2013   2    28.36    19.99  66.31          0.0  100.83         2.28   \n",
       "2  2013   3    29.44    21.20  62.62          0.0  100.93         2.94   \n",
       "3  2013   4    29.04    21.73  64.38          0.0  100.97         1.79   \n",
       "4  2013   5    29.28    23.69  66.69          0.0  100.88         2.47   \n",
       "\n",
       "      PSC   WSC    DATE  \n",
       "0  100.43  4.14  2013/1  \n",
       "1  100.55  3.72  2013/2  \n",
       "2  100.65  2.75  2013/3  \n",
       "3  100.69  2.52  2013/4  \n",
       "4  100.60  3.04  2013/5  "
      ]
     },
     "execution_count": 4,
     "metadata": {},
     "output_type": "execute_result"
    }
   ],
   "source": [
    "df['YEAR'] = df.YEAR.astype(str)\n",
    "df['DOY'] = df.DOY.astype(str)\n",
    "df['DATE'] = df['YEAR'].str.cat(df['DOY'], sep='/')\n",
    "\n",
    "df.head()"
   ]
  },
  {
   "cell_type": "code",
   "execution_count": 5,
   "id": "fecf3420",
   "metadata": {},
   "outputs": [
    {
     "data": {
      "text/html": [
       "<div>\n",
       "<style scoped>\n",
       "    .dataframe tbody tr th:only-of-type {\n",
       "        vertical-align: middle;\n",
       "    }\n",
       "\n",
       "    .dataframe tbody tr th {\n",
       "        vertical-align: top;\n",
       "    }\n",
       "\n",
       "    .dataframe thead th {\n",
       "        text-align: right;\n",
       "    }\n",
       "</style>\n",
       "<table border=\"1\" class=\"dataframe\">\n",
       "  <thead>\n",
       "    <tr style=\"text-align: right;\">\n",
       "      <th></th>\n",
       "      <th>T2M_MAX</th>\n",
       "      <th>T2M_MIN</th>\n",
       "      <th>RH2M</th>\n",
       "      <th>PRECTOTCORR</th>\n",
       "      <th>PS</th>\n",
       "      <th>WS10M_RANGE</th>\n",
       "      <th>DATE</th>\n",
       "    </tr>\n",
       "  </thead>\n",
       "  <tbody>\n",
       "    <tr>\n",
       "      <th>0</th>\n",
       "      <td>28.53</td>\n",
       "      <td>18.73</td>\n",
       "      <td>69.19</td>\n",
       "      <td>0.0</td>\n",
       "      <td>100.71</td>\n",
       "      <td>2.81</td>\n",
       "      <td>2013/1</td>\n",
       "    </tr>\n",
       "    <tr>\n",
       "      <th>1</th>\n",
       "      <td>28.36</td>\n",
       "      <td>19.99</td>\n",
       "      <td>66.31</td>\n",
       "      <td>0.0</td>\n",
       "      <td>100.83</td>\n",
       "      <td>2.28</td>\n",
       "      <td>2013/2</td>\n",
       "    </tr>\n",
       "    <tr>\n",
       "      <th>2</th>\n",
       "      <td>29.44</td>\n",
       "      <td>21.20</td>\n",
       "      <td>62.62</td>\n",
       "      <td>0.0</td>\n",
       "      <td>100.93</td>\n",
       "      <td>2.94</td>\n",
       "      <td>2013/3</td>\n",
       "    </tr>\n",
       "    <tr>\n",
       "      <th>3</th>\n",
       "      <td>29.04</td>\n",
       "      <td>21.73</td>\n",
       "      <td>64.38</td>\n",
       "      <td>0.0</td>\n",
       "      <td>100.97</td>\n",
       "      <td>1.79</td>\n",
       "      <td>2013/4</td>\n",
       "    </tr>\n",
       "    <tr>\n",
       "      <th>4</th>\n",
       "      <td>29.28</td>\n",
       "      <td>23.69</td>\n",
       "      <td>66.69</td>\n",
       "      <td>0.0</td>\n",
       "      <td>100.88</td>\n",
       "      <td>2.47</td>\n",
       "      <td>2013/5</td>\n",
       "    </tr>\n",
       "  </tbody>\n",
       "</table>\n",
       "</div>"
      ],
      "text/plain": [
       "   T2M_MAX  T2M_MIN   RH2M  PRECTOTCORR      PS  WS10M_RANGE    DATE\n",
       "0    28.53    18.73  69.19          0.0  100.71         2.81  2013/1\n",
       "1    28.36    19.99  66.31          0.0  100.83         2.28  2013/2\n",
       "2    29.44    21.20  62.62          0.0  100.93         2.94  2013/3\n",
       "3    29.04    21.73  64.38          0.0  100.97         1.79  2013/4\n",
       "4    29.28    23.69  66.69          0.0  100.88         2.47  2013/5"
      ]
     },
     "execution_count": 5,
     "metadata": {},
     "output_type": "execute_result"
    }
   ],
   "source": [
    "df.drop(columns=['YEAR', 'DOY', 'PSC', 'WSC'], axis=1, inplace=True)\n",
    "df.head()"
   ]
  },
  {
   "cell_type": "code",
   "execution_count": 6,
   "id": "d4ef25b6",
   "metadata": {},
   "outputs": [
    {
     "data": {
      "text/html": [
       "<div>\n",
       "<style scoped>\n",
       "    .dataframe tbody tr th:only-of-type {\n",
       "        vertical-align: middle;\n",
       "    }\n",
       "\n",
       "    .dataframe tbody tr th {\n",
       "        vertical-align: top;\n",
       "    }\n",
       "\n",
       "    .dataframe thead th {\n",
       "        text-align: right;\n",
       "    }\n",
       "</style>\n",
       "<table border=\"1\" class=\"dataframe\">\n",
       "  <thead>\n",
       "    <tr style=\"text-align: right;\">\n",
       "      <th></th>\n",
       "      <th>T2M_MAX</th>\n",
       "      <th>T2M_MIN</th>\n",
       "      <th>RH2M</th>\n",
       "      <th>PRECTOTCORR</th>\n",
       "      <th>PS</th>\n",
       "      <th>WS10M_RANGE</th>\n",
       "    </tr>\n",
       "    <tr>\n",
       "      <th>DATE</th>\n",
       "      <th></th>\n",
       "      <th></th>\n",
       "      <th></th>\n",
       "      <th></th>\n",
       "      <th></th>\n",
       "      <th></th>\n",
       "    </tr>\n",
       "  </thead>\n",
       "  <tbody>\n",
       "    <tr>\n",
       "      <th>2013/1</th>\n",
       "      <td>28.53</td>\n",
       "      <td>18.73</td>\n",
       "      <td>69.19</td>\n",
       "      <td>0.0</td>\n",
       "      <td>100.71</td>\n",
       "      <td>2.81</td>\n",
       "    </tr>\n",
       "    <tr>\n",
       "      <th>2013/2</th>\n",
       "      <td>28.36</td>\n",
       "      <td>19.99</td>\n",
       "      <td>66.31</td>\n",
       "      <td>0.0</td>\n",
       "      <td>100.83</td>\n",
       "      <td>2.28</td>\n",
       "    </tr>\n",
       "    <tr>\n",
       "      <th>2013/3</th>\n",
       "      <td>29.44</td>\n",
       "      <td>21.20</td>\n",
       "      <td>62.62</td>\n",
       "      <td>0.0</td>\n",
       "      <td>100.93</td>\n",
       "      <td>2.94</td>\n",
       "    </tr>\n",
       "    <tr>\n",
       "      <th>2013/4</th>\n",
       "      <td>29.04</td>\n",
       "      <td>21.73</td>\n",
       "      <td>64.38</td>\n",
       "      <td>0.0</td>\n",
       "      <td>100.97</td>\n",
       "      <td>1.79</td>\n",
       "    </tr>\n",
       "    <tr>\n",
       "      <th>2013/5</th>\n",
       "      <td>29.28</td>\n",
       "      <td>23.69</td>\n",
       "      <td>66.69</td>\n",
       "      <td>0.0</td>\n",
       "      <td>100.88</td>\n",
       "      <td>2.47</td>\n",
       "    </tr>\n",
       "  </tbody>\n",
       "</table>\n",
       "</div>"
      ],
      "text/plain": [
       "        T2M_MAX  T2M_MIN   RH2M  PRECTOTCORR      PS  WS10M_RANGE\n",
       "DATE                                                             \n",
       "2013/1    28.53    18.73  69.19          0.0  100.71         2.81\n",
       "2013/2    28.36    19.99  66.31          0.0  100.83         2.28\n",
       "2013/3    29.44    21.20  62.62          0.0  100.93         2.94\n",
       "2013/4    29.04    21.73  64.38          0.0  100.97         1.79\n",
       "2013/5    29.28    23.69  66.69          0.0  100.88         2.47"
      ]
     },
     "execution_count": 6,
     "metadata": {},
     "output_type": "execute_result"
    }
   ],
   "source": [
    "# Set the index to date sice it is unique\n",
    "df.set_index(['DATE'], inplace=True)\n",
    "df.head()"
   ]
  },
  {
   "cell_type": "markdown",
   "id": "90dcb3e0",
   "metadata": {},
   "source": [
    "#### Taking a lookk at the data"
   ]
  },
  {
   "cell_type": "code",
   "execution_count": 7,
   "id": "fa08b403",
   "metadata": {},
   "outputs": [
    {
     "data": {
      "text/plain": [
       "T2M_MAX        float64\n",
       "T2M_MIN        float64\n",
       "RH2M           float64\n",
       "PRECTOTCORR    float64\n",
       "PS             float64\n",
       "WS10M_RANGE    float64\n",
       "dtype: object"
      ]
     },
     "execution_count": 7,
     "metadata": {},
     "output_type": "execute_result"
    }
   ],
   "source": [
    "df.dtypes"
   ]
  },
  {
   "cell_type": "code",
   "execution_count": 8,
   "id": "9788f314",
   "metadata": {},
   "outputs": [
    {
     "name": "stdout",
     "output_type": "stream",
     "text": [
      "<class 'pandas.core.frame.DataFrame'>\n",
      "Index: 3636 entries, 2013/1 to 2022/349\n",
      "Data columns (total 6 columns):\n",
      " #   Column       Non-Null Count  Dtype  \n",
      "---  ------       --------------  -----  \n",
      " 0   T2M_MAX      3636 non-null   float64\n",
      " 1   T2M_MIN      3636 non-null   float64\n",
      " 2   RH2M         3636 non-null   float64\n",
      " 3   PRECTOTCORR  3636 non-null   float64\n",
      " 4   PS           3636 non-null   float64\n",
      " 5   WS10M_RANGE  3636 non-null   float64\n",
      "dtypes: float64(6)\n",
      "memory usage: 198.8+ KB\n"
     ]
    }
   ],
   "source": [
    "df.info()"
   ]
  },
  {
   "cell_type": "code",
   "execution_count": 9,
   "id": "4ace111f",
   "metadata": {},
   "outputs": [
    {
     "data": {
      "text/plain": [
       "(3636, 6)"
      ]
     },
     "execution_count": 9,
     "metadata": {},
     "output_type": "execute_result"
    }
   ],
   "source": [
    "df.shape"
   ]
  },
  {
   "cell_type": "code",
   "execution_count": 10,
   "id": "4432d601",
   "metadata": {},
   "outputs": [
    {
     "data": {
      "text/plain": [
       "T2M_MAX        False\n",
       "T2M_MIN        False\n",
       "RH2M           False\n",
       "PRECTOTCORR    False\n",
       "PS             False\n",
       "WS10M_RANGE    False\n",
       "dtype: bool"
      ]
     },
     "execution_count": 10,
     "metadata": {},
     "output_type": "execute_result"
    }
   ],
   "source": [
    "df.isnull().any()"
   ]
  },
  {
   "cell_type": "code",
   "execution_count": 11,
   "id": "fb422878",
   "metadata": {},
   "outputs": [
    {
     "data": {
      "text/html": [
       "<div>\n",
       "<style scoped>\n",
       "    .dataframe tbody tr th:only-of-type {\n",
       "        vertical-align: middle;\n",
       "    }\n",
       "\n",
       "    .dataframe tbody tr th {\n",
       "        vertical-align: top;\n",
       "    }\n",
       "\n",
       "    .dataframe thead th {\n",
       "        text-align: right;\n",
       "    }\n",
       "</style>\n",
       "<table border=\"1\" class=\"dataframe\">\n",
       "  <thead>\n",
       "    <tr style=\"text-align: right;\">\n",
       "      <th></th>\n",
       "      <th>T2M_MAX</th>\n",
       "      <th>T2M_MIN</th>\n",
       "      <th>RH2M</th>\n",
       "      <th>PRECTOTCORR</th>\n",
       "      <th>PS</th>\n",
       "      <th>WS10M_RANGE</th>\n",
       "    </tr>\n",
       "    <tr>\n",
       "      <th>DATE</th>\n",
       "      <th></th>\n",
       "      <th></th>\n",
       "      <th></th>\n",
       "      <th></th>\n",
       "      <th></th>\n",
       "      <th></th>\n",
       "    </tr>\n",
       "  </thead>\n",
       "  <tbody>\n",
       "    <tr>\n",
       "      <th>2022/345</th>\n",
       "      <td>29.91</td>\n",
       "      <td>25.4</td>\n",
       "      <td>81.56</td>\n",
       "      <td>1.22</td>\n",
       "      <td>100.68</td>\n",
       "      <td>2.03</td>\n",
       "    </tr>\n",
       "    <tr>\n",
       "      <th>2022/346</th>\n",
       "      <td>-999.00</td>\n",
       "      <td>-999.0</td>\n",
       "      <td>-999.00</td>\n",
       "      <td>-999.00</td>\n",
       "      <td>-999.00</td>\n",
       "      <td>-999.00</td>\n",
       "    </tr>\n",
       "    <tr>\n",
       "      <th>2022/347</th>\n",
       "      <td>-999.00</td>\n",
       "      <td>-999.0</td>\n",
       "      <td>-999.00</td>\n",
       "      <td>-999.00</td>\n",
       "      <td>-999.00</td>\n",
       "      <td>-999.00</td>\n",
       "    </tr>\n",
       "    <tr>\n",
       "      <th>2022/348</th>\n",
       "      <td>-999.00</td>\n",
       "      <td>-999.0</td>\n",
       "      <td>-999.00</td>\n",
       "      <td>-999.00</td>\n",
       "      <td>-999.00</td>\n",
       "      <td>-999.00</td>\n",
       "    </tr>\n",
       "    <tr>\n",
       "      <th>2022/349</th>\n",
       "      <td>-999.00</td>\n",
       "      <td>-999.0</td>\n",
       "      <td>-999.00</td>\n",
       "      <td>-999.00</td>\n",
       "      <td>-999.00</td>\n",
       "      <td>-999.00</td>\n",
       "    </tr>\n",
       "  </tbody>\n",
       "</table>\n",
       "</div>"
      ],
      "text/plain": [
       "          T2M_MAX  T2M_MIN    RH2M  PRECTOTCORR      PS  WS10M_RANGE\n",
       "DATE                                                                \n",
       "2022/345    29.91     25.4   81.56         1.22  100.68         2.03\n",
       "2022/346  -999.00   -999.0 -999.00      -999.00 -999.00      -999.00\n",
       "2022/347  -999.00   -999.0 -999.00      -999.00 -999.00      -999.00\n",
       "2022/348  -999.00   -999.0 -999.00      -999.00 -999.00      -999.00\n",
       "2022/349  -999.00   -999.0 -999.00      -999.00 -999.00      -999.00"
      ]
     },
     "execution_count": 11,
     "metadata": {},
     "output_type": "execute_result"
    }
   ],
   "source": [
    "df.tail()"
   ]
  },
  {
   "cell_type": "code",
   "execution_count": 12,
   "id": "ecf680f8",
   "metadata": {},
   "outputs": [
    {
     "data": {
      "text/html": [
       "<div>\n",
       "<style scoped>\n",
       "    .dataframe tbody tr th:only-of-type {\n",
       "        vertical-align: middle;\n",
       "    }\n",
       "\n",
       "    .dataframe tbody tr th {\n",
       "        vertical-align: top;\n",
       "    }\n",
       "\n",
       "    .dataframe thead th {\n",
       "        text-align: right;\n",
       "    }\n",
       "</style>\n",
       "<table border=\"1\" class=\"dataframe\">\n",
       "  <thead>\n",
       "    <tr style=\"text-align: right;\">\n",
       "      <th></th>\n",
       "      <th>T2M_MAX</th>\n",
       "      <th>T2M_MIN</th>\n",
       "      <th>RH2M</th>\n",
       "      <th>PRECTOTCORR</th>\n",
       "      <th>PS</th>\n",
       "      <th>WS10M_RANGE</th>\n",
       "    </tr>\n",
       "  </thead>\n",
       "  <tbody>\n",
       "    <tr>\n",
       "      <th>count</th>\n",
       "      <td>3636.000000</td>\n",
       "      <td>3636.000000</td>\n",
       "      <td>3636.000000</td>\n",
       "      <td>3636.000000</td>\n",
       "      <td>3636.000000</td>\n",
       "      <td>3636.000000</td>\n",
       "    </tr>\n",
       "    <tr>\n",
       "      <th>mean</th>\n",
       "      <td>26.740663</td>\n",
       "      <td>22.777423</td>\n",
       "      <td>83.532811</td>\n",
       "      <td>2.319420</td>\n",
       "      <td>98.713061</td>\n",
       "      <td>-0.120415</td>\n",
       "    </tr>\n",
       "    <tr>\n",
       "      <th>std</th>\n",
       "      <td>45.073808</td>\n",
       "      <td>44.902765</td>\n",
       "      <td>47.840846</td>\n",
       "      <td>44.570049</td>\n",
       "      <td>48.217710</td>\n",
       "      <td>43.881505</td>\n",
       "    </tr>\n",
       "    <tr>\n",
       "      <th>min</th>\n",
       "      <td>-999.000000</td>\n",
       "      <td>-999.000000</td>\n",
       "      <td>-999.000000</td>\n",
       "      <td>-999.000000</td>\n",
       "      <td>-999.000000</td>\n",
       "      <td>-999.000000</td>\n",
       "    </tr>\n",
       "    <tr>\n",
       "      <th>25%</th>\n",
       "      <td>27.760000</td>\n",
       "      <td>23.990000</td>\n",
       "      <td>84.310000</td>\n",
       "      <td>0.380000</td>\n",
       "      <td>100.710000</td>\n",
       "      <td>1.280000</td>\n",
       "    </tr>\n",
       "    <tr>\n",
       "      <th>50%</th>\n",
       "      <td>28.790000</td>\n",
       "      <td>24.950000</td>\n",
       "      <td>86.690000</td>\n",
       "      <td>2.085000</td>\n",
       "      <td>100.820000</td>\n",
       "      <td>1.720000</td>\n",
       "    </tr>\n",
       "    <tr>\n",
       "      <th>75%</th>\n",
       "      <td>29.690000</td>\n",
       "      <td>25.730000</td>\n",
       "      <td>88.690000</td>\n",
       "      <td>5.290000</td>\n",
       "      <td>100.950000</td>\n",
       "      <td>2.230000</td>\n",
       "    </tr>\n",
       "    <tr>\n",
       "      <th>max</th>\n",
       "      <td>32.180000</td>\n",
       "      <td>27.500000</td>\n",
       "      <td>93.810000</td>\n",
       "      <td>166.100000</td>\n",
       "      <td>101.350000</td>\n",
       "      <td>4.780000</td>\n",
       "    </tr>\n",
       "  </tbody>\n",
       "</table>\n",
       "</div>"
      ],
      "text/plain": [
       "           T2M_MAX      T2M_MIN         RH2M  PRECTOTCORR           PS  \\\n",
       "count  3636.000000  3636.000000  3636.000000  3636.000000  3636.000000   \n",
       "mean     26.740663    22.777423    83.532811     2.319420    98.713061   \n",
       "std      45.073808    44.902765    47.840846    44.570049    48.217710   \n",
       "min    -999.000000  -999.000000  -999.000000  -999.000000  -999.000000   \n",
       "25%      27.760000    23.990000    84.310000     0.380000   100.710000   \n",
       "50%      28.790000    24.950000    86.690000     2.085000   100.820000   \n",
       "75%      29.690000    25.730000    88.690000     5.290000   100.950000   \n",
       "max      32.180000    27.500000    93.810000   166.100000   101.350000   \n",
       "\n",
       "       WS10M_RANGE  \n",
       "count  3636.000000  \n",
       "mean     -0.120415  \n",
       "std      43.881505  \n",
       "min    -999.000000  \n",
       "25%       1.280000  \n",
       "50%       1.720000  \n",
       "75%       2.230000  \n",
       "max       4.780000  "
      ]
     },
     "execution_count": 12,
     "metadata": {},
     "output_type": "execute_result"
    }
   ],
   "source": [
    "df.describe()"
   ]
  },
  {
   "cell_type": "code",
   "execution_count": 13,
   "id": "1cafdf03",
   "metadata": {},
   "outputs": [
    {
     "name": "stdout",
     "output_type": "stream",
     "text": [
      "Scaled df: \n",
      " [[0.99646037 0.99145641 0.97747092 0.85743713 0.99941837 0.99803742]\n",
      " [0.99629551 0.99268388 0.97483552 0.85743713 0.99952742 0.99750941]\n",
      " [0.99734285 0.99386264 0.9714589  0.85743713 0.9996183  0.99816693]\n",
      " ...\n",
      " [0.         0.         0.         0.         0.         0.        ]\n",
      " [0.         0.         0.         0.         0.         0.        ]\n",
      " [0.         0.         0.         0.         0.         0.        ]] \n",
      " (3636, 6)\n"
     ]
    }
   ],
   "source": [
    "# Scaling the data - Normalize (0-1) or standardize (gaussian data)\n",
    "from sklearn.preprocessing import MinMaxScaler\n",
    "scaler = MinMaxScaler()\n",
    "df_scaled = scaler.fit_transform(df)\n",
    "print('Scaled df: \\n', df_scaled, '\\n', df_scaled.shape)"
   ]
  },
  {
   "cell_type": "code",
   "execution_count": 14,
   "id": "eddc15b0",
   "metadata": {},
   "outputs": [],
   "source": [
    "# splitting the dataset. Train - Test\n",
    "\n",
    "from sklearn.model_selection import train_test_split\n",
    "\n",
    "train, test = train_test_split(df_scaled, test_size=0.2, shuffle=False)\n",
    "\n",
    "# x - y\n",
    "x_train, y_train, x_test, y_test = [], [], [], []\n",
    "\n",
    "for i in range (1, len(train)):\n",
    "    x_train.append(train[i-1])\n",
    "    y_train.append(train[i])\n",
    "for i in range(1, len(test)):\n",
    "    x_test.append(test[i-1])\n",
    "    y_test.append(test[i])"
   ]
  },
  {
   "cell_type": "code",
   "execution_count": 15,
   "id": "88142e5e",
   "metadata": {},
   "outputs": [
    {
     "data": {
      "text/html": [
       "<div>\n",
       "<style scoped>\n",
       "    .dataframe tbody tr th:only-of-type {\n",
       "        vertical-align: middle;\n",
       "    }\n",
       "\n",
       "    .dataframe tbody tr th {\n",
       "        vertical-align: top;\n",
       "    }\n",
       "\n",
       "    .dataframe thead th {\n",
       "        text-align: right;\n",
       "    }\n",
       "</style>\n",
       "<table border=\"1\" class=\"dataframe\">\n",
       "  <thead>\n",
       "    <tr style=\"text-align: right;\">\n",
       "      <th></th>\n",
       "      <th>0</th>\n",
       "      <th>1</th>\n",
       "      <th>2</th>\n",
       "      <th>3</th>\n",
       "      <th>4</th>\n",
       "      <th>5</th>\n",
       "    </tr>\n",
       "  </thead>\n",
       "  <tbody>\n",
       "    <tr>\n",
       "      <th>0</th>\n",
       "      <td>0.996460</td>\n",
       "      <td>0.991456</td>\n",
       "      <td>0.977471</td>\n",
       "      <td>0.857437</td>\n",
       "      <td>0.999418</td>\n",
       "      <td>0.998037</td>\n",
       "    </tr>\n",
       "    <tr>\n",
       "      <th>1</th>\n",
       "      <td>0.996296</td>\n",
       "      <td>0.992684</td>\n",
       "      <td>0.974836</td>\n",
       "      <td>0.857437</td>\n",
       "      <td>0.999527</td>\n",
       "      <td>0.997509</td>\n",
       "    </tr>\n",
       "    <tr>\n",
       "      <th>2</th>\n",
       "      <td>0.997343</td>\n",
       "      <td>0.993863</td>\n",
       "      <td>0.971459</td>\n",
       "      <td>0.857437</td>\n",
       "      <td>0.999618</td>\n",
       "      <td>0.998167</td>\n",
       "    </tr>\n",
       "    <tr>\n",
       "      <th>3</th>\n",
       "      <td>0.996955</td>\n",
       "      <td>0.994379</td>\n",
       "      <td>0.973069</td>\n",
       "      <td>0.857437</td>\n",
       "      <td>0.999655</td>\n",
       "      <td>0.997021</td>\n",
       "    </tr>\n",
       "    <tr>\n",
       "      <th>4</th>\n",
       "      <td>0.997188</td>\n",
       "      <td>0.996288</td>\n",
       "      <td>0.975183</td>\n",
       "      <td>0.857437</td>\n",
       "      <td>0.999573</td>\n",
       "      <td>0.997699</td>\n",
       "    </tr>\n",
       "    <tr>\n",
       "      <th>...</th>\n",
       "      <td>...</td>\n",
       "      <td>...</td>\n",
       "      <td>...</td>\n",
       "      <td>...</td>\n",
       "      <td>...</td>\n",
       "      <td>...</td>\n",
       "    </tr>\n",
       "    <tr>\n",
       "      <th>2902</th>\n",
       "      <td>0.996761</td>\n",
       "      <td>0.997935</td>\n",
       "      <td>0.994226</td>\n",
       "      <td>0.858459</td>\n",
       "      <td>0.999491</td>\n",
       "      <td>0.996194</td>\n",
       "    </tr>\n",
       "    <tr>\n",
       "      <th>2903</th>\n",
       "      <td>0.997459</td>\n",
       "      <td>0.997477</td>\n",
       "      <td>0.993366</td>\n",
       "      <td>0.858287</td>\n",
       "      <td>0.999409</td>\n",
       "      <td>0.995905</td>\n",
       "    </tr>\n",
       "    <tr>\n",
       "      <th>2904</th>\n",
       "      <td>0.997517</td>\n",
       "      <td>0.997526</td>\n",
       "      <td>0.993027</td>\n",
       "      <td>0.858639</td>\n",
       "      <td>0.999391</td>\n",
       "      <td>0.995826</td>\n",
       "    </tr>\n",
       "    <tr>\n",
       "      <th>2905</th>\n",
       "      <td>0.997391</td>\n",
       "      <td>0.997993</td>\n",
       "      <td>0.991426</td>\n",
       "      <td>0.858982</td>\n",
       "      <td>0.999409</td>\n",
       "      <td>0.996443</td>\n",
       "    </tr>\n",
       "    <tr>\n",
       "      <th>2906</th>\n",
       "      <td>0.997770</td>\n",
       "      <td>0.997701</td>\n",
       "      <td>0.990053</td>\n",
       "      <td>0.858742</td>\n",
       "      <td>0.999473</td>\n",
       "      <td>0.998027</td>\n",
       "    </tr>\n",
       "  </tbody>\n",
       "</table>\n",
       "<p>2907 rows × 6 columns</p>\n",
       "</div>"
      ],
      "text/plain": [
       "             0         1         2         3         4         5\n",
       "0     0.996460  0.991456  0.977471  0.857437  0.999418  0.998037\n",
       "1     0.996296  0.992684  0.974836  0.857437  0.999527  0.997509\n",
       "2     0.997343  0.993863  0.971459  0.857437  0.999618  0.998167\n",
       "3     0.996955  0.994379  0.973069  0.857437  0.999655  0.997021\n",
       "4     0.997188  0.996288  0.975183  0.857437  0.999573  0.997699\n",
       "...        ...       ...       ...       ...       ...       ...\n",
       "2902  0.996761  0.997935  0.994226  0.858459  0.999491  0.996194\n",
       "2903  0.997459  0.997477  0.993366  0.858287  0.999409  0.995905\n",
       "2904  0.997517  0.997526  0.993027  0.858639  0.999391  0.995826\n",
       "2905  0.997391  0.997993  0.991426  0.858982  0.999409  0.996443\n",
       "2906  0.997770  0.997701  0.990053  0.858742  0.999473  0.998027\n",
       "\n",
       "[2907 rows x 6 columns]"
      ]
     },
     "execution_count": 15,
     "metadata": {},
     "output_type": "execute_result"
    }
   ],
   "source": [
    "pd.DataFrame(x_train)"
   ]
  },
  {
   "cell_type": "code",
   "execution_count": 16,
   "id": "9d0db800",
   "metadata": {},
   "outputs": [
    {
     "data": {
      "text/html": [
       "<div>\n",
       "<style scoped>\n",
       "    .dataframe tbody tr th:only-of-type {\n",
       "        vertical-align: middle;\n",
       "    }\n",
       "\n",
       "    .dataframe tbody tr th {\n",
       "        vertical-align: top;\n",
       "    }\n",
       "\n",
       "    .dataframe thead th {\n",
       "        text-align: right;\n",
       "    }\n",
       "</style>\n",
       "<table border=\"1\" class=\"dataframe\">\n",
       "  <thead>\n",
       "    <tr style=\"text-align: right;\">\n",
       "      <th></th>\n",
       "      <th>0</th>\n",
       "      <th>1</th>\n",
       "      <th>2</th>\n",
       "      <th>3</th>\n",
       "      <th>4</th>\n",
       "      <th>5</th>\n",
       "    </tr>\n",
       "  </thead>\n",
       "  <tbody>\n",
       "    <tr>\n",
       "      <th>0</th>\n",
       "      <td>0.996296</td>\n",
       "      <td>0.992684</td>\n",
       "      <td>0.974836</td>\n",
       "      <td>0.857437</td>\n",
       "      <td>0.999527</td>\n",
       "      <td>0.997509</td>\n",
       "    </tr>\n",
       "    <tr>\n",
       "      <th>1</th>\n",
       "      <td>0.997343</td>\n",
       "      <td>0.993863</td>\n",
       "      <td>0.971459</td>\n",
       "      <td>0.857437</td>\n",
       "      <td>0.999618</td>\n",
       "      <td>0.998167</td>\n",
       "    </tr>\n",
       "    <tr>\n",
       "      <th>2</th>\n",
       "      <td>0.996955</td>\n",
       "      <td>0.994379</td>\n",
       "      <td>0.973069</td>\n",
       "      <td>0.857437</td>\n",
       "      <td>0.999655</td>\n",
       "      <td>0.997021</td>\n",
       "    </tr>\n",
       "    <tr>\n",
       "      <th>3</th>\n",
       "      <td>0.997188</td>\n",
       "      <td>0.996288</td>\n",
       "      <td>0.975183</td>\n",
       "      <td>0.857437</td>\n",
       "      <td>0.999573</td>\n",
       "      <td>0.997699</td>\n",
       "    </tr>\n",
       "    <tr>\n",
       "      <th>4</th>\n",
       "      <td>0.997062</td>\n",
       "      <td>0.995490</td>\n",
       "      <td>0.985075</td>\n",
       "      <td>0.857437</td>\n",
       "      <td>0.999564</td>\n",
       "      <td>0.997380</td>\n",
       "    </tr>\n",
       "    <tr>\n",
       "      <th>...</th>\n",
       "      <td>...</td>\n",
       "      <td>...</td>\n",
       "      <td>...</td>\n",
       "      <td>...</td>\n",
       "      <td>...</td>\n",
       "      <td>...</td>\n",
       "    </tr>\n",
       "    <tr>\n",
       "      <th>2902</th>\n",
       "      <td>0.997459</td>\n",
       "      <td>0.997477</td>\n",
       "      <td>0.993366</td>\n",
       "      <td>0.858287</td>\n",
       "      <td>0.999409</td>\n",
       "      <td>0.995905</td>\n",
       "    </tr>\n",
       "    <tr>\n",
       "      <th>2903</th>\n",
       "      <td>0.997517</td>\n",
       "      <td>0.997526</td>\n",
       "      <td>0.993027</td>\n",
       "      <td>0.858639</td>\n",
       "      <td>0.999391</td>\n",
       "      <td>0.995826</td>\n",
       "    </tr>\n",
       "    <tr>\n",
       "      <th>2904</th>\n",
       "      <td>0.997391</td>\n",
       "      <td>0.997993</td>\n",
       "      <td>0.991426</td>\n",
       "      <td>0.858982</td>\n",
       "      <td>0.999409</td>\n",
       "      <td>0.996443</td>\n",
       "    </tr>\n",
       "    <tr>\n",
       "      <th>2905</th>\n",
       "      <td>0.997770</td>\n",
       "      <td>0.997701</td>\n",
       "      <td>0.990053</td>\n",
       "      <td>0.858742</td>\n",
       "      <td>0.999473</td>\n",
       "      <td>0.998027</td>\n",
       "    </tr>\n",
       "    <tr>\n",
       "      <th>2906</th>\n",
       "      <td>0.996800</td>\n",
       "      <td>0.998169</td>\n",
       "      <td>0.994281</td>\n",
       "      <td>0.859617</td>\n",
       "      <td>0.999455</td>\n",
       "      <td>0.996573</td>\n",
       "    </tr>\n",
       "  </tbody>\n",
       "</table>\n",
       "<p>2907 rows × 6 columns</p>\n",
       "</div>"
      ],
      "text/plain": [
       "             0         1         2         3         4         5\n",
       "0     0.996296  0.992684  0.974836  0.857437  0.999527  0.997509\n",
       "1     0.997343  0.993863  0.971459  0.857437  0.999618  0.998167\n",
       "2     0.996955  0.994379  0.973069  0.857437  0.999655  0.997021\n",
       "3     0.997188  0.996288  0.975183  0.857437  0.999573  0.997699\n",
       "4     0.997062  0.995490  0.985075  0.857437  0.999564  0.997380\n",
       "...        ...       ...       ...       ...       ...       ...\n",
       "2902  0.997459  0.997477  0.993366  0.858287  0.999409  0.995905\n",
       "2903  0.997517  0.997526  0.993027  0.858639  0.999391  0.995826\n",
       "2904  0.997391  0.997993  0.991426  0.858982  0.999409  0.996443\n",
       "2905  0.997770  0.997701  0.990053  0.858742  0.999473  0.998027\n",
       "2906  0.996800  0.998169  0.994281  0.859617  0.999455  0.996573\n",
       "\n",
       "[2907 rows x 6 columns]"
      ]
     },
     "execution_count": 16,
     "metadata": {},
     "output_type": "execute_result"
    }
   ],
   "source": [
    "pd.DataFrame(y_train)"
   ]
  },
  {
   "cell_type": "code",
   "execution_count": 17,
   "id": "bdb201c3",
   "metadata": {},
   "outputs": [
    {
     "data": {
      "text/plain": [
       "((2907, 6), (2907, 6), (727, 6), (727, 6))"
      ]
     },
     "execution_count": 17,
     "metadata": {},
     "output_type": "execute_result"
    }
   ],
   "source": [
    "# Converting list to array\n",
    "x_train, y_train = np.array(x_train), np.array(y_train)\n",
    "x_test, y_test = np.array(x_test), np.array(y_test)\n",
    "\n",
    "x_train.shape, y_train.shape, x_test.shape, y_test.shape"
   ]
  },
  {
   "cell_type": "code",
   "execution_count": 18,
   "id": "0f728762",
   "metadata": {},
   "outputs": [],
   "source": [
    "from keras.models import Sequential\n",
    "from keras.layers import Dense, Activation\n",
    "from keras.optimizers import Adam\n",
    "from keras.models import load_model\n",
    "from keras.layers import Dropout"
   ]
  },
  {
   "cell_type": "code",
   "execution_count": 19,
   "id": "f7a25344",
   "metadata": {},
   "outputs": [
    {
     "name": "stdout",
     "output_type": "stream",
     "text": [
      "Model: \"sequential\"\n",
      "_________________________________________________________________\n",
      " Layer (type)                Output Shape              Param #   \n",
      "=================================================================\n",
      " dense (Dense)               (None, 6)                 42        \n",
      "                                                                 \n",
      " dense_1 (Dense)             (None, 1)                 7         \n",
      "                                                                 \n",
      " dense_2 (Dense)             (None, 1)                 2         \n",
      "                                                                 \n",
      " dense_3 (Dense)             (None, 6)                 12        \n",
      "                                                                 \n",
      "=================================================================\n",
      "Total params: 63\n",
      "Trainable params: 63\n",
      "Non-trainable params: 0\n",
      "_________________________________________________________________\n"
     ]
    }
   ],
   "source": [
    "# define model\n",
    "model = Sequential()\n",
    "# model.add(Dense(6, input_dim=6, activation='relu'))\n",
    "# model.add(Dense(8, activation='relu'))\n",
    "# model.add(Dense(8, activation='relu'))\n",
    "# model.add(Dense(6))\n",
    "\n",
    "model.add(Dense(6, input_dim=6, activation='relu'))\n",
    "model.add(Dense(1, activation='relu'))\n",
    "model.add(Dense(1, activation='relu'))\n",
    "model.add(Dense(6))\n",
    "\n",
    "model.summary()\n",
    "\n",
    "# compile model\n",
    "model.compile(optimizer='adam', loss='mse', metrics=['accuracy'])"
   ]
  },
  {
   "cell_type": "code",
   "execution_count": 20,
   "id": "a62827c6",
   "metadata": {},
   "outputs": [
    {
     "name": "stdout",
     "output_type": "stream",
     "text": [
      "Epoch 1/10\n",
      "291/291 [==============================] - 3s 5ms/step - loss: 0.7064 - accuracy: 0.6371 - val_loss: 0.4922 - val_accuracy: 0.9807\n",
      "Epoch 2/10\n",
      "291/291 [==============================] - 1s 4ms/step - loss: 0.3510 - accuracy: 0.9794 - val_loss: 0.2307 - val_accuracy: 0.9807\n",
      "Epoch 3/10\n",
      "291/291 [==============================] - 1s 3ms/step - loss: 0.1535 - accuracy: 0.9794 - val_loss: 0.0960 - val_accuracy: 0.9807\n",
      "Epoch 4/10\n",
      "291/291 [==============================] - 1s 3ms/step - loss: 0.0573 - accuracy: 0.9794 - val_loss: 0.0368 - val_accuracy: 0.9807\n",
      "Epoch 5/10\n",
      "291/291 [==============================] - 1s 3ms/step - loss: 0.0176 - accuracy: 0.9794 - val_loss: 0.0158 - val_accuracy: 0.9807\n",
      "Epoch 6/10\n",
      "291/291 [==============================] - 1s 3ms/step - loss: 0.0043 - accuracy: 0.9794 - val_loss: 0.0101 - val_accuracy: 0.9807\n",
      "Epoch 7/10\n",
      "291/291 [==============================] - 1s 4ms/step - loss: 8.1996e-04 - accuracy: 0.9794 - val_loss: 0.0091 - val_accuracy: 0.9807\n",
      "Epoch 8/10\n",
      "291/291 [==============================] - 1s 3ms/step - loss: 1.2263e-04 - accuracy: 0.9794 - val_loss: 0.0091 - val_accuracy: 0.9807\n",
      "Epoch 9/10\n",
      "291/291 [==============================] - 1s 3ms/step - loss: 2.2039e-05 - accuracy: 0.9794 - val_loss: 0.0091 - val_accuracy: 0.9807\n",
      "Epoch 10/10\n",
      "291/291 [==============================] - 1s 4ms/step - loss: 1.1979e-05 - accuracy: 0.9794 - val_loss: 0.0092 - val_accuracy: 0.9807\n"
     ]
    }
   ],
   "source": [
    "# fit the model\n",
    "history = model.fit(x_train, y_train, validation_data=(x_test, y_test), epochs=10, batch_size=10, shuffle=False)"
   ]
  },
  {
   "cell_type": "code",
   "execution_count": 21,
   "id": "9b5f5396",
   "metadata": {},
   "outputs": [
    {
     "name": "stdout",
     "output_type": "stream",
     "text": [
      "23/23 [==============================] - 0s 3ms/step\n"
     ]
    }
   ],
   "source": [
    "y_pred = model.predict(x_test)\n",
    "y_pred = scaler.inverse_transform(y_pred)\n",
    "actual_y_pred = scaler.inverse_transform(y_test)"
   ]
  },
  {
   "cell_type": "code",
   "execution_count": 22,
   "id": "5fc4153b",
   "metadata": {},
   "outputs": [
    {
     "data": {
      "image/png": "[encoded data removed]",
      "text/plain": [
       "<Figure size 1000x600 with 1 Axes>"
      ]
     },
     "metadata": {},
     "output_type": "display_data"
    }
   ],
   "source": [
    "plt.rcParams['figure.figsize'] = (10,6)\n",
    "plt.plot(history.history['accuracy'])\n",
    "plt.plot(history.history['val_accuracy'])\n",
    "plt.title(\"Training and Validation accurracy\")\n",
    "plt.xlabel('Epochs')\n",
    "plt.ylabel('Accuracy')\n",
    "plt.legend(['train', 'val'], loc='upper left')\n",
    "plt.show()"
   ]
  },
  {
   "cell_type": "code",
   "execution_count": 23,
   "id": "e42a953b",
   "metadata": {},
   "outputs": [
    {
     "data": {
      "image/png": "[encoded data removed]",
      "text/plain": [
       "<Figure size 1000x600 with 1 Axes>"
      ]
     },
     "metadata": {},
     "output_type": "display_data"
    }
   ],
   "source": [
    "plt.rcParams['figure.figsize'] = (10,6)\n",
    "plt.plot(history.history['loss'])\n",
    "plt.plot(history.history['val_loss'])\n",
    "plt.title(\"Training and Validation loss\")\n",
    "plt.xlabel('Epochs')\n",
    "plt.ylabel('Loss')\n",
    "plt.legend(['train', 'val'], loc='upper left')\n",
    "plt.show()"
   ]
  },
  {
   "cell_type": "code",
   "execution_count": 24,
   "id": "64c707bf",
   "metadata": {},
   "outputs": [
    {
     "name": "stdout",
     "output_type": "stream",
     "text": [
      "Actual values:\n",
      " T2M_MAX T2M_MIN RH2M PRECTOTCORR PS WS10M_RANGE\n",
      "          0       1       2       3       4       5\n",
      "0     29.42   25.78   84.81    1.28  100.72    0.68\n",
      "1     28.76   25.34   86.75    2.84  100.75    1.59\n",
      "2     28.96   24.93   86.38    3.60  100.76    1.82\n",
      "3     29.12   25.25   86.81    0.57  100.72    1.29\n",
      "4     30.04   25.30   85.12    0.47  100.72    1.71\n",
      "..      ...     ...     ...     ...     ...     ...\n",
      "722   29.91   25.40   81.56    1.22  100.68    2.03\n",
      "723 -999.00 -999.00 -999.00 -999.00 -999.00 -999.00\n",
      "724 -999.00 -999.00 -999.00 -999.00 -999.00 -999.00\n",
      "725 -999.00 -999.00 -999.00 -999.00 -999.00 -999.00\n",
      "726 -999.00 -999.00 -999.00 -999.00 -999.00 -999.00\n",
      "\n",
      "[727 rows x 6 columns]\n",
      "Predicted values\n",
      "T2M_MAX T2M_MIN RH2M PRECTOTCORR PS WS10M_RANGE\n",
      "             0          1          2         3           4         5\n",
      "0    28.379061  24.384136  85.314568  4.419091  100.446556  1.458241\n",
      "1    28.379061  24.384136  85.314568  4.419091  100.446556  1.458241\n",
      "2    28.379061  24.384136  85.314568  4.419091  100.446556  1.458241\n",
      "3    28.379061  24.384136  85.314568  4.419091  100.446556  1.458241\n",
      "4    28.379061  24.384136  85.314568  4.419091  100.446556  1.458241\n",
      "..         ...        ...        ...       ...         ...       ...\n",
      "722  28.379061  24.384136  85.314568  4.419091  100.446556  1.458241\n",
      "723  28.379061  24.384136  85.314568  4.419091  100.446556  1.458241\n",
      "724  28.379061  24.384136  85.314568  4.419091  100.446556  1.458241\n",
      "725  28.379061  24.384136  85.314568  4.419091  100.446556  1.458241\n",
      "726  28.379061  24.384136  85.314568  4.419091  100.446556  1.458241\n",
      "\n",
      "[727 rows x 6 columns]\n"
     ]
    }
   ],
   "source": [
    "print('Actual values:')\n",
    "print(' T2M_MAX T2M_MIN RH2M PRECTOTCORR PS WS10M_RANGE')\n",
    "print(pd.DataFrame(actual_y_pred))\n",
    "\n",
    "print('Predicted values')\n",
    "print('T2M_MAX T2M_MIN RH2M PRECTOTCORR PS WS10M_RANGE')\n",
    "print(pd.DataFrame(y_pred))"
   ]
  },
  {
   "cell_type": "code",
   "execution_count": 25,
   "id": "aa3ebfd0",
   "metadata": {},
   "outputs": [
    {
     "name": "stdout",
     "output_type": "stream",
     "text": [
      "accuracy: 99.04%\n"
     ]
    }
   ],
   "source": [
    "# Evaluating the model\n",
    "scores = model.evaluate(actual_y_pred, y_pred, verbose=0)\n",
    "print(\"%s: %.2f%%\" % (model.metrics_names[1], scores[1]*100))\n",
    "# print(f\"{model.metrics_names[1]}: {scores[1]*100}\")"
   ]
  },
  {
   "cell_type": "code",
   "execution_count": 26,
   "id": "4e435460",
   "metadata": {},
   "outputs": [],
   "source": [
    "T = range(y_pred.shape[0])"
   ]
  },
  {
   "cell_type": "code",
   "execution_count": 27,
   "id": "b4d63b28",
   "metadata": {},
   "outputs": [
    {
     "data": {
      "text/plain": [
       "Text(0, 0.5, 'Temperature')"
      ]
     },
     "execution_count": 27,
     "metadata": {},
     "output_type": "execute_result"
    },
    {
     "data": {
      "image/png": "[encoded data removed]",
      "text/plain": [
       "<Figure size 1000x600 with 1 Axes>"
      ]
     },
     "metadata": {},
     "output_type": "display_data"
    }
   ],
   "source": [
    "plt.plot(T, y_pred[:,0])\n",
    "plt.plot(T, actual_y_pred[:,0])\n",
    "plt.rcParams[\"figure.figsize\"] = (10,6)\n",
    "plt.title('Maximum Temperature')\n",
    "plt.xlabel('Values')\n",
    "plt.ylabel('Temperature')"
   ]
  },
  {
   "cell_type": "code",
   "execution_count": 28,
   "id": "e3c921ba",
   "metadata": {},
   "outputs": [
    {
     "data": {
      "text/plain": [
       "Text(0, 0.5, 'Temperature')"
      ]
     },
     "execution_count": 28,
     "metadata": {},
     "output_type": "execute_result"
    },
    {
     "data": {
      "image/png": "[encoded data removed]",
      "text/plain": [
       "<Figure size 1000x600 with 1 Axes>"
      ]
     },
     "metadata": {},
     "output_type": "display_data"
    }
   ],
   "source": [
    "plt.plot(T, y_pred[:,1])\n",
    "plt.plot(T, actual_y_pred[:,1])\n",
    "plt.rcParams[\"figure.figsize\"] = (10,6)\n",
    "plt.title('Minimum Temperature')\n",
    "plt.xlabel('Values')\n",
    "plt.ylabel('Temperature')"
   ]
  },
  {
   "cell_type": "code",
   "execution_count": 73,
   "id": "87b43bab",
   "metadata": {},
   "outputs": [
    {
     "data": {
      "text/plain": [
       "Text(0, 0.5, 'Humidity')"
      ]
     },
     "execution_count": 73,
     "metadata": {},
     "output_type": "execute_result"
    },
    {
     "data": {
      "image/png": "[encoded data removed]",
      "text/plain": [
       "<Figure size 1000x600 with 1 Axes>"
      ]
     },
     "metadata": {},
     "output_type": "display_data"
    }
   ],
   "source": [
    "plt.plot(T, y_pred[:,2])\n",
    "plt.plot(T, actual_y_pred[:,2])\n",
    "plt.rcParams[\"figure.figsize\"] = (10,6)\n",
    "plt.title('Relative Humidity')\n",
    "plt.xlabel('Values')\n",
    "plt.ylabel('Humidity')"
   ]
  },
  {
   "cell_type": "code",
   "execution_count": 29,
   "id": "e4ed006e",
   "metadata": {},
   "outputs": [
    {
     "data": {
      "text/plain": [
       "Text(0, 0.5, 'Precipitation')"
      ]
     },
     "execution_count": 29,
     "metadata": {},
     "output_type": "execute_result"
    },
    {
     "data": {
      "image/png": "[encoded data removed]",
      "text/plain": [
       "<Figure size 1000x600 with 1 Axes>"
      ]
     },
     "metadata": {},
     "output_type": "display_data"
    }
   ],
   "source": [
    "plt.plot(T, y_pred[:,3])\n",
    "plt.plot(T, actual_y_pred[:,3])\n",
    "plt.rcParams[\"figure.figsize\"] = (10,6)\n",
    "plt.title('Precipitation')\n",
    "plt.xlabel('Values')\n",
    "plt.ylabel('Precipitation')"
   ]
  },
  {
   "cell_type": "code",
   "execution_count": 75,
   "id": "2b5825ed",
   "metadata": {},
   "outputs": [
    {
     "data": {
      "text/plain": [
       "Text(0, 0.5, 'Surface Pressure')"
      ]
     },
     "execution_count": 75,
     "metadata": {},
     "output_type": "execute_result"
    },
    {
     "data": {
      "image/png": "[encoded data removed]",
      "text/plain": [
       "<Figure size 1000x600 with 1 Axes>"
      ]
     },
     "metadata": {},
     "output_type": "display_data"
    }
   ],
   "source": [
    "plt.plot(T, y_pred[:,4])\n",
    "plt.plot(T, actual_y_pred[:,4])\n",
    "plt.rcParams[\"figure.figsize\"] = (10,6)\n",
    "plt.title('Surface Pressure')\n",
    "plt.xlabel('Values')\n",
    "plt.ylabel('Surface Pressure')"
   ]
  },
  {
   "cell_type": "code",
   "execution_count": 30,
   "id": "6fa7b217",
   "metadata": {},
   "outputs": [
    {
     "data": {
      "text/plain": [
       "Text(0, 0.5, 'Wind Speed')"
      ]
     },
     "execution_count": 30,
     "metadata": {},
     "output_type": "execute_result"
    },
    {
     "data": {
      "image/png": "[encoded data removed]",
      "text/plain": [
       "<Figure size 1000x600 with 1 Axes>"
      ]
     },
     "metadata": {},
     "output_type": "display_data"
    }
   ],
   "source": [
    "plt.plot(T, y_pred[:,5])\n",
    "plt.plot(T, actual_y_pred[:,5])\n",
    "plt.rcParams[\"figure.figsize\"] = (10,6)\n",
    "plt.title('Wind Speed at 10M Range')\n",
    "plt.xlabel('Values')\n",
    "plt.ylabel('Wind Speed')"
   ]
  },
  {
   "cell_type": "code",
   "execution_count": 31,
   "id": "d2aa5390",
   "metadata": {},
   "outputs": [
    {
     "name": "stdout",
     "output_type": "stream",
     "text": [
      "82/82 [==============================] - 0s 3ms/step - loss: 1.1770e-05 - accuracy: 0.9771\n",
      "10/10 [==============================] - 0s 3ms/step\n",
      "82/82 [==============================] - 0s 3ms/step - loss: 1.1851e-05 - accuracy: 0.9771\n",
      "10/10 [==============================] - 0s 3ms/step\n",
      "82/82 [==============================] - 0s 4ms/step - loss: 1.1276e-05 - accuracy: 0.9782\n",
      "10/10 [==============================] - 0s 3ms/step\n",
      "82/82 [==============================] - 0s 3ms/step - loss: 1.0839e-05 - accuracy: 0.9801\n",
      "10/10 [==============================] - 0s 3ms/step\n",
      "82/82 [==============================] - 0s 3ms/step - loss: 1.1330e-05 - accuracy: 0.9813\n",
      "10/10 [==============================] - 0s 3ms/step\n",
      "82/82 [==============================] - 0s 4ms/step - loss: 1.1185e-05 - accuracy: 0.9786\n",
      "10/10 [==============================] - 0s 3ms/step\n",
      "82/82 [==============================] - 0s 4ms/step - loss: 1.1721e-05 - accuracy: 0.9782\n",
      "10/10 [==============================] - 0s 3ms/step\n",
      "82/82 [==============================] - 0s 4ms/step - loss: 1.1527e-05 - accuracy: 0.9847\n",
      "10/10 [==============================] - 0s 3ms/step\n",
      "82/82 [==============================] - 0s 3ms/step - loss: 1.0661e-05 - accuracy: 0.9801\n",
      "10/10 [==============================] - 0s 2ms/step\n",
      "82/82 [==============================] - 0s 4ms/step - loss: 9.9899e-06 - accuracy: 0.9782\n",
      "10/10 [==============================] - 0s 4ms/step\n"
     ]
    }
   ],
   "source": [
    "from sklearn.model_selection import KFold\n",
    "\n",
    "cv = KFold(n_splits=10, shuffle=False)\n",
    "\n",
    "# Iterate through cv splits\n",
    "result = []\n",
    "for tr, tt in cv.split(x_train, y_train):\n",
    "    # Fit the model on training data\n",
    "    model.fit(x_train[tr], y_train[tr])\n",
    "    \n",
    "    #Generate predictions on the test data and collect\n",
    "    prediction = model.predict(x_train[tt])\n",
    "    result.append((prediction, tt))"
   ]
  },
  {
   "cell_type": "code",
   "execution_count": 32,
   "id": "01c05c22",
   "metadata": {},
   "outputs": [
    {
     "name": "stdout",
     "output_type": "stream",
     "text": [
      "<bound method NDFrame.tail of           T2M_MAX  T2M_MIN    RH2M  PRECTOTCORR      PS  WS10M_RANGE\n",
      "DATE                                                                \n",
      "2013/1      28.53    18.73   69.19         0.00  100.71         2.81\n",
      "2013/2      28.36    19.99   66.31         0.00  100.83         2.28\n",
      "2013/3      29.44    21.20   62.62         0.00  100.93         2.94\n",
      "2013/4      29.04    21.73   64.38         0.00  100.97         1.79\n",
      "2013/5      29.28    23.69   66.69         0.00  100.88         2.47\n",
      "...           ...      ...     ...          ...     ...          ...\n",
      "2022/345    29.91    25.40   81.56         1.22  100.68         2.03\n",
      "2022/346  -999.00  -999.00 -999.00      -999.00 -999.00      -999.00\n",
      "2022/347  -999.00  -999.00 -999.00      -999.00 -999.00      -999.00\n",
      "2022/348  -999.00  -999.00 -999.00      -999.00 -999.00      -999.00\n",
      "2022/349  -999.00  -999.00 -999.00      -999.00 -999.00      -999.00\n",
      "\n",
      "[3636 rows x 6 columns]>\n",
      "Enter the weather parameters of previous day\n",
      "Enter Maximum Temperature: 28.53\n",
      "Enter Manimum Temperature: 18.73\n",
      "Enter Relative Humidity: 69.19\n",
      "Enter Precipitation: 0.00\n",
      "Enter Surface Pessure: 100.71\n",
      "Enter Wind Speed at 10M Range: 2.81\n",
      "Input Data:  [[ 28.53  18.73  69.19   0.   100.71   2.81]]\n",
      "Scaled Input Data:  [[0.99646037 0.99145641 0.97747092 0.85743713 0.99941837 0.99803742]]\n",
      "1/1 [==============================] - 0s 34ms/step\n",
      "Predicted Data: \n"
     ]
    },
    {
     "name": "stderr",
     "output_type": "stream",
     "text": [
      "C:\\Python310\\lib\\site-packages\\sklearn\\base.py:409: UserWarning: X does not have valid feature names, but MinMaxScaler was fitted with feature names\n",
      "  warnings.warn(\n"
     ]
    },
    {
     "data": {
      "text/html": [
       "<div>\n",
       "<style scoped>\n",
       "    .dataframe tbody tr th:only-of-type {\n",
       "        vertical-align: middle;\n",
       "    }\n",
       "\n",
       "    .dataframe tbody tr th {\n",
       "        vertical-align: top;\n",
       "    }\n",
       "\n",
       "    .dataframe thead th {\n",
       "        text-align: right;\n",
       "    }\n",
       "</style>\n",
       "<table border=\"1\" class=\"dataframe\">\n",
       "  <thead>\n",
       "    <tr style=\"text-align: right;\">\n",
       "      <th></th>\n",
       "      <th>0</th>\n",
       "      <th>1</th>\n",
       "      <th>2</th>\n",
       "      <th>3</th>\n",
       "      <th>4</th>\n",
       "      <th>5</th>\n",
       "    </tr>\n",
       "  </thead>\n",
       "  <tbody>\n",
       "    <tr>\n",
       "      <th>0</th>\n",
       "      <td>28.684593</td>\n",
       "      <td>24.715509</td>\n",
       "      <td>85.733856</td>\n",
       "      <td>4.184922</td>\n",
       "      <td>100.84053</td>\n",
       "      <td>1.816622</td>\n",
       "    </tr>\n",
       "  </tbody>\n",
       "</table>\n",
       "</div>"
      ],
      "text/plain": [
       "           0          1          2         3          4         5\n",
       "0  28.684593  24.715509  85.733856  4.184922  100.84053  1.816622"
      ]
     },
     "execution_count": 32,
     "metadata": {},
     "output_type": "execute_result"
    }
   ],
   "source": [
    "print(df.tail())\n",
    "\n",
    "input_data = []\n",
    "\n",
    "print(\"Enter the weather parameters of previous day\")\n",
    "\n",
    "attr1 = float(input(\"Enter Maximum Temperature: \"))\n",
    "attr2 = float(input(\"Enter Manimum Temperature: \"))\n",
    "attr3 = float(input(\"Enter Relative Humidity: \"))\n",
    "attr4 = float(input(\"Enter Precipitation: \"))\n",
    "attr5 = float(input(\"Enter Surface Pessure: \"))\n",
    "attr6 = float(input(\"Enter Wind Speed at 10M Range: \"))\n",
    "\n",
    "input_data.append(attr1)\n",
    "input_data.append(attr2)\n",
    "input_data.append(attr3)\n",
    "input_data.append(attr4)\n",
    "input_data.append(attr5)\n",
    "input_data.append(attr6)\n",
    "\n",
    "input_data = np.array(input_data)\n",
    "input_data.shape = (1, 6)\n",
    "print(\"Input Data: \", input_data)\n",
    "\n",
    "input_data = scaler.transform(input_data)\n",
    "print('Scaled Input Data: ', input_data)\n",
    "\n",
    "pred1 = model.predict(input_data)\n",
    "pred2 = scaler.inverse_transform(pred1)\n",
    "print(\"Predicted Data: \")\n",
    "pd.DataFrame(pred2)"
   ]
  },
  {
   "cell_type": "code",
   "execution_count": null,
   "id": "69a41ef8",
   "metadata": {},
   "outputs": [],
   "source": []
  }
 ],
 "metadata": {
  "kernelspec": {
   "display_name": "Python 3 (ipykernel)",
   "language": "python",
   "name": "python3"
  },
  "language_info": {
   "codemirror_mode": {
    "name": "ipython",
    "version": 3
   },
   "file_extension": ".py",
   "mimetype": "text/x-python",
   "name": "python",
   "nbconvert_exporter": "python",
   "pygments_lexer": "ipython3",
   "version": "3.10.1"
  }
 },
 "nbformat": 4,
 "nbformat_minor": 5
}
