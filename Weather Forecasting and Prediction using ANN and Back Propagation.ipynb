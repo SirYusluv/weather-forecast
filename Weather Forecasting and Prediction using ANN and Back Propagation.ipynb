{
 "cells": [
  {
   "cell_type": "code",
   "execution_count": 1,
   "id": "ceb119bf",
   "metadata": {},
   "outputs": [],
   "source": [
    "import numpy as np\n",
    "import pandas as pd\n",
    "import matplotlib.pyplot as plt\n",
    "\n",
    "import urllib.request\n",
    "from geopy.geocoders import Nominatim\n",
    "\n",
    "pd.set_option('display.max_columns', None)"
   ]
  },
  {
   "cell_type": "markdown",
   "id": "71c2ddab",
   "metadata": {},
   "source": [
    "#### Start date and an End date is needed to get weather data for that date range\n",
    "#### The data will be used in training our model"
   ]
  },
  {
   "cell_type": "code",
   "execution_count": 2,
   "id": "6a1fd608",
   "metadata": {},
   "outputs": [
    {
     "name": "stdout",
     "output_type": "stream",
     "text": [
      "Enter start date in format yyyy/mm//dd2015/01/01\n",
      "Enter end date in format yyyy/mm//dd2022/12/29\n"
     ]
    }
   ],
   "source": [
    "start_date = input(\"Enter start date in format yyyy/mm//dd\")\n",
    "end_date = input(\"Enter end date in format yyyy/mm//dd\")\n",
    "\n",
    "start_date = start_date.replace('/', '')\n",
    "end_date = end_date.replace('/', '')"
   ]
  },
  {
   "cell_type": "code",
   "execution_count": 3,
   "id": "12014a09",
   "metadata": {},
   "outputs": [
    {
     "name": "stdout",
     "output_type": "stream",
     "text": [
      "Enter location in the format city/stateIsolo, Lagos\n"
     ]
    }
   ],
   "source": [
    "address = input(\"Enter location in the format city/state\")"
   ]
  },
  {
   "cell_type": "code",
   "execution_count": 4,
   "id": "b1b10849",
   "metadata": {},
   "outputs": [
    {
     "name": "stdout",
     "output_type": "stream",
     "text": [
      "Isolo, Oshodi/Isolo, Lagos, 100263, Nigeria\n",
      "6.5291605 3.3217235\n"
     ]
    }
   ],
   "source": [
    "geolocator = Nominatim(user_agent=\"AI\")\n",
    "location = geolocator.geocode(address)\n",
    "print(location.address)\n",
    "print(location.latitude, location.longitude)\n",
    "latitude = location.latitude\n",
    "longitude = location.longitude"
   ]
  },
  {
   "cell_type": "markdown",
   "id": "a4e35740",
   "metadata": {},
   "source": [
    "#### We will be using the NASA weather API\n",
    "#### The weather parameter are: Max and Min Temp, Rel. Humidity, precipitation, surface pressure and Wind speed at 10 meter range "
   ]
  },
  {
   "cell_type": "code",
   "execution_count": 5,
   "id": "0281313e",
   "metadata": {},
   "outputs": [
    {
     "data": {
      "text/plain": [
       "('weather.csv', <http.client.HTTPMessage at 0x1a2cad6b1f0>)"
      ]
     },
     "execution_count": 5,
     "metadata": {},
     "output_type": "execute_result"
    }
   ],
   "source": [
    "url = f'https://power.larc.nasa.gov/api/temporal/daily/point?parameters=T2M_MAX,T2M_MIN,RH2M,PRECTOTCORR,PS,WS10M_RANGE&community=AG&longitude={longitude}&latitude={latitude}&start={start_date}&end={end_date}&format=ASCII&wind-surface=SeaIce&wind-elevation=50&site-elevation=50&format=CSV'\n",
    "\n",
    "urllib.request.urlretrieve(url, 'weather.csv')"
   ]
  },
  {
   "cell_type": "code",
   "execution_count": 6,
   "id": "0f757584",
   "metadata": {},
   "outputs": [
    {
     "data": {
      "text/html": [
       "<div>\n",
       "<style scoped>\n",
       "    .dataframe tbody tr th:only-of-type {\n",
       "        vertical-align: middle;\n",
       "    }\n",
       "\n",
       "    .dataframe tbody tr th {\n",
       "        vertical-align: top;\n",
       "    }\n",
       "\n",
       "    .dataframe thead th {\n",
       "        text-align: right;\n",
       "    }\n",
       "</style>\n",
       "<table border=\"1\" class=\"dataframe\">\n",
       "  <thead>\n",
       "    <tr style=\"text-align: right;\">\n",
       "      <th></th>\n",
       "      <th>YEAR</th>\n",
       "      <th>DOY</th>\n",
       "      <th>T2M_MAX</th>\n",
       "      <th>T2M_MIN</th>\n",
       "      <th>RH2M</th>\n",
       "      <th>PRECTOTCORR</th>\n",
       "      <th>PS</th>\n",
       "      <th>WS10M_RANGE</th>\n",
       "      <th>PSC</th>\n",
       "      <th>WSC</th>\n",
       "    </tr>\n",
       "  </thead>\n",
       "  <tbody>\n",
       "    <tr>\n",
       "      <th>0</th>\n",
       "      <td>2015</td>\n",
       "      <td>1</td>\n",
       "      <td>29.26</td>\n",
       "      <td>22.06</td>\n",
       "      <td>68.25</td>\n",
       "      <td>0.0</td>\n",
       "      <td>100.86</td>\n",
       "      <td>3.23</td>\n",
       "      <td>100.58</td>\n",
       "      <td>3.54</td>\n",
       "    </tr>\n",
       "    <tr>\n",
       "      <th>1</th>\n",
       "      <td>2015</td>\n",
       "      <td>2</td>\n",
       "      <td>29.41</td>\n",
       "      <td>22.87</td>\n",
       "      <td>73.25</td>\n",
       "      <td>0.0</td>\n",
       "      <td>100.94</td>\n",
       "      <td>1.73</td>\n",
       "      <td>100.66</td>\n",
       "      <td>2.92</td>\n",
       "    </tr>\n",
       "    <tr>\n",
       "      <th>2</th>\n",
       "      <td>2015</td>\n",
       "      <td>3</td>\n",
       "      <td>29.01</td>\n",
       "      <td>22.63</td>\n",
       "      <td>78.69</td>\n",
       "      <td>0.0</td>\n",
       "      <td>101.06</td>\n",
       "      <td>2.48</td>\n",
       "      <td>100.78</td>\n",
       "      <td>3.47</td>\n",
       "    </tr>\n",
       "    <tr>\n",
       "      <th>3</th>\n",
       "      <td>2015</td>\n",
       "      <td>4</td>\n",
       "      <td>27.27</td>\n",
       "      <td>19.92</td>\n",
       "      <td>63.69</td>\n",
       "      <td>0.0</td>\n",
       "      <td>101.09</td>\n",
       "      <td>4.78</td>\n",
       "      <td>100.81</td>\n",
       "      <td>4.15</td>\n",
       "    </tr>\n",
       "    <tr>\n",
       "      <th>4</th>\n",
       "      <td>2015</td>\n",
       "      <td>5</td>\n",
       "      <td>27.27</td>\n",
       "      <td>18.18</td>\n",
       "      <td>59.44</td>\n",
       "      <td>0.0</td>\n",
       "      <td>101.04</td>\n",
       "      <td>4.24</td>\n",
       "      <td>100.75</td>\n",
       "      <td>3.69</td>\n",
       "    </tr>\n",
       "  </tbody>\n",
       "</table>\n",
       "</div>"
      ],
      "text/plain": [
       "   YEAR  DOY  T2M_MAX  T2M_MIN   RH2M  PRECTOTCORR      PS  WS10M_RANGE  \\\n",
       "0  2015    1    29.26    22.06  68.25          0.0  100.86         3.23   \n",
       "1  2015    2    29.41    22.87  73.25          0.0  100.94         1.73   \n",
       "2  2015    3    29.01    22.63  78.69          0.0  101.06         2.48   \n",
       "3  2015    4    27.27    19.92  63.69          0.0  101.09         4.78   \n",
       "4  2015    5    27.27    18.18  59.44          0.0  101.04         4.24   \n",
       "\n",
       "      PSC   WSC  \n",
       "0  100.58  3.54  \n",
       "1  100.66  2.92  \n",
       "2  100.78  3.47  \n",
       "3  100.81  4.15  \n",
       "4  100.75  3.69  "
      ]
     },
     "execution_count": 6,
     "metadata": {},
     "output_type": "execute_result"
    }
   ],
   "source": [
    "df = pd.read_csv('weather.csv', skiprows=18)\n",
    "df.head()"
   ]
  },
  {
   "cell_type": "markdown",
   "id": "3f178ca4",
   "metadata": {},
   "source": [
    "#### Data processing"
   ]
  },
  {
   "cell_type": "code",
   "execution_count": 7,
   "id": "031e1a35",
   "metadata": {},
   "outputs": [
    {
     "data": {
      "text/html": [
       "<div>\n",
       "<style scoped>\n",
       "    .dataframe tbody tr th:only-of-type {\n",
       "        vertical-align: middle;\n",
       "    }\n",
       "\n",
       "    .dataframe tbody tr th {\n",
       "        vertical-align: top;\n",
       "    }\n",
       "\n",
       "    .dataframe thead th {\n",
       "        text-align: right;\n",
       "    }\n",
       "</style>\n",
       "<table border=\"1\" class=\"dataframe\">\n",
       "  <thead>\n",
       "    <tr style=\"text-align: right;\">\n",
       "      <th></th>\n",
       "      <th>YEAR</th>\n",
       "      <th>DOY</th>\n",
       "      <th>T2M_MAX</th>\n",
       "      <th>T2M_MIN</th>\n",
       "      <th>RH2M</th>\n",
       "      <th>PRECTOTCORR</th>\n",
       "      <th>PS</th>\n",
       "      <th>WS10M_RANGE</th>\n",
       "      <th>PSC</th>\n",
       "      <th>WSC</th>\n",
       "      <th>DATE</th>\n",
       "    </tr>\n",
       "  </thead>\n",
       "  <tbody>\n",
       "    <tr>\n",
       "      <th>0</th>\n",
       "      <td>2015</td>\n",
       "      <td>1</td>\n",
       "      <td>29.26</td>\n",
       "      <td>22.06</td>\n",
       "      <td>68.25</td>\n",
       "      <td>0.0</td>\n",
       "      <td>100.86</td>\n",
       "      <td>3.23</td>\n",
       "      <td>100.58</td>\n",
       "      <td>3.54</td>\n",
       "      <td>2015/1</td>\n",
       "    </tr>\n",
       "    <tr>\n",
       "      <th>1</th>\n",
       "      <td>2015</td>\n",
       "      <td>2</td>\n",
       "      <td>29.41</td>\n",
       "      <td>22.87</td>\n",
       "      <td>73.25</td>\n",
       "      <td>0.0</td>\n",
       "      <td>100.94</td>\n",
       "      <td>1.73</td>\n",
       "      <td>100.66</td>\n",
       "      <td>2.92</td>\n",
       "      <td>2015/2</td>\n",
       "    </tr>\n",
       "    <tr>\n",
       "      <th>2</th>\n",
       "      <td>2015</td>\n",
       "      <td>3</td>\n",
       "      <td>29.01</td>\n",
       "      <td>22.63</td>\n",
       "      <td>78.69</td>\n",
       "      <td>0.0</td>\n",
       "      <td>101.06</td>\n",
       "      <td>2.48</td>\n",
       "      <td>100.78</td>\n",
       "      <td>3.47</td>\n",
       "      <td>2015/3</td>\n",
       "    </tr>\n",
       "    <tr>\n",
       "      <th>3</th>\n",
       "      <td>2015</td>\n",
       "      <td>4</td>\n",
       "      <td>27.27</td>\n",
       "      <td>19.92</td>\n",
       "      <td>63.69</td>\n",
       "      <td>0.0</td>\n",
       "      <td>101.09</td>\n",
       "      <td>4.78</td>\n",
       "      <td>100.81</td>\n",
       "      <td>4.15</td>\n",
       "      <td>2015/4</td>\n",
       "    </tr>\n",
       "    <tr>\n",
       "      <th>4</th>\n",
       "      <td>2015</td>\n",
       "      <td>5</td>\n",
       "      <td>27.27</td>\n",
       "      <td>18.18</td>\n",
       "      <td>59.44</td>\n",
       "      <td>0.0</td>\n",
       "      <td>101.04</td>\n",
       "      <td>4.24</td>\n",
       "      <td>100.75</td>\n",
       "      <td>3.69</td>\n",
       "      <td>2015/5</td>\n",
       "    </tr>\n",
       "  </tbody>\n",
       "</table>\n",
       "</div>"
      ],
      "text/plain": [
       "   YEAR DOY  T2M_MAX  T2M_MIN   RH2M  PRECTOTCORR      PS  WS10M_RANGE  \\\n",
       "0  2015   1    29.26    22.06  68.25          0.0  100.86         3.23   \n",
       "1  2015   2    29.41    22.87  73.25          0.0  100.94         1.73   \n",
       "2  2015   3    29.01    22.63  78.69          0.0  101.06         2.48   \n",
       "3  2015   4    27.27    19.92  63.69          0.0  101.09         4.78   \n",
       "4  2015   5    27.27    18.18  59.44          0.0  101.04         4.24   \n",
       "\n",
       "      PSC   WSC    DATE  \n",
       "0  100.58  3.54  2015/1  \n",
       "1  100.66  2.92  2015/2  \n",
       "2  100.78  3.47  2015/3  \n",
       "3  100.81  4.15  2015/4  \n",
       "4  100.75  3.69  2015/5  "
      ]
     },
     "execution_count": 7,
     "metadata": {},
     "output_type": "execute_result"
    }
   ],
   "source": [
    "df['YEAR'] = df.YEAR.astype(str)\n",
    "df['DOY'] = df.DOY.astype(str)\n",
    "df['DATE'] = df['YEAR'].str.cat(df['DOY'], sep='/')\n",
    "\n",
    "df.head()"
   ]
  },
  {
   "cell_type": "code",
   "execution_count": 8,
   "id": "fecf3420",
   "metadata": {},
   "outputs": [
    {
     "data": {
      "text/html": [
       "<div>\n",
       "<style scoped>\n",
       "    .dataframe tbody tr th:only-of-type {\n",
       "        vertical-align: middle;\n",
       "    }\n",
       "\n",
       "    .dataframe tbody tr th {\n",
       "        vertical-align: top;\n",
       "    }\n",
       "\n",
       "    .dataframe thead th {\n",
       "        text-align: right;\n",
       "    }\n",
       "</style>\n",
       "<table border=\"1\" class=\"dataframe\">\n",
       "  <thead>\n",
       "    <tr style=\"text-align: right;\">\n",
       "      <th></th>\n",
       "      <th>T2M_MAX</th>\n",
       "      <th>T2M_MIN</th>\n",
       "      <th>RH2M</th>\n",
       "      <th>PRECTOTCORR</th>\n",
       "      <th>PS</th>\n",
       "      <th>WS10M_RANGE</th>\n",
       "      <th>DATE</th>\n",
       "    </tr>\n",
       "  </thead>\n",
       "  <tbody>\n",
       "    <tr>\n",
       "      <th>0</th>\n",
       "      <td>29.26</td>\n",
       "      <td>22.06</td>\n",
       "      <td>68.25</td>\n",
       "      <td>0.0</td>\n",
       "      <td>100.86</td>\n",
       "      <td>3.23</td>\n",
       "      <td>2015/1</td>\n",
       "    </tr>\n",
       "    <tr>\n",
       "      <th>1</th>\n",
       "      <td>29.41</td>\n",
       "      <td>22.87</td>\n",
       "      <td>73.25</td>\n",
       "      <td>0.0</td>\n",
       "      <td>100.94</td>\n",
       "      <td>1.73</td>\n",
       "      <td>2015/2</td>\n",
       "    </tr>\n",
       "    <tr>\n",
       "      <th>2</th>\n",
       "      <td>29.01</td>\n",
       "      <td>22.63</td>\n",
       "      <td>78.69</td>\n",
       "      <td>0.0</td>\n",
       "      <td>101.06</td>\n",
       "      <td>2.48</td>\n",
       "      <td>2015/3</td>\n",
       "    </tr>\n",
       "    <tr>\n",
       "      <th>3</th>\n",
       "      <td>27.27</td>\n",
       "      <td>19.92</td>\n",
       "      <td>63.69</td>\n",
       "      <td>0.0</td>\n",
       "      <td>101.09</td>\n",
       "      <td>4.78</td>\n",
       "      <td>2015/4</td>\n",
       "    </tr>\n",
       "    <tr>\n",
       "      <th>4</th>\n",
       "      <td>27.27</td>\n",
       "      <td>18.18</td>\n",
       "      <td>59.44</td>\n",
       "      <td>0.0</td>\n",
       "      <td>101.04</td>\n",
       "      <td>4.24</td>\n",
       "      <td>2015/5</td>\n",
       "    </tr>\n",
       "  </tbody>\n",
       "</table>\n",
       "</div>"
      ],
      "text/plain": [
       "   T2M_MAX  T2M_MIN   RH2M  PRECTOTCORR      PS  WS10M_RANGE    DATE\n",
       "0    29.26    22.06  68.25          0.0  100.86         3.23  2015/1\n",
       "1    29.41    22.87  73.25          0.0  100.94         1.73  2015/2\n",
       "2    29.01    22.63  78.69          0.0  101.06         2.48  2015/3\n",
       "3    27.27    19.92  63.69          0.0  101.09         4.78  2015/4\n",
       "4    27.27    18.18  59.44          0.0  101.04         4.24  2015/5"
      ]
     },
     "execution_count": 8,
     "metadata": {},
     "output_type": "execute_result"
    }
   ],
   "source": [
    "df.drop(columns=['YEAR', 'DOY', 'PSC', 'WSC'], axis=1, inplace=True)\n",
    "df.head()"
   ]
  },
  {
   "cell_type": "code",
   "execution_count": 9,
   "id": "d4ef25b6",
   "metadata": {},
   "outputs": [
    {
     "data": {
      "text/html": [
       "<div>\n",
       "<style scoped>\n",
       "    .dataframe tbody tr th:only-of-type {\n",
       "        vertical-align: middle;\n",
       "    }\n",
       "\n",
       "    .dataframe tbody tr th {\n",
       "        vertical-align: top;\n",
       "    }\n",
       "\n",
       "    .dataframe thead th {\n",
       "        text-align: right;\n",
       "    }\n",
       "</style>\n",
       "<table border=\"1\" class=\"dataframe\">\n",
       "  <thead>\n",
       "    <tr style=\"text-align: right;\">\n",
       "      <th></th>\n",
       "      <th>T2M_MAX</th>\n",
       "      <th>T2M_MIN</th>\n",
       "      <th>RH2M</th>\n",
       "      <th>PRECTOTCORR</th>\n",
       "      <th>PS</th>\n",
       "      <th>WS10M_RANGE</th>\n",
       "    </tr>\n",
       "    <tr>\n",
       "      <th>DATE</th>\n",
       "      <th></th>\n",
       "      <th></th>\n",
       "      <th></th>\n",
       "      <th></th>\n",
       "      <th></th>\n",
       "      <th></th>\n",
       "    </tr>\n",
       "  </thead>\n",
       "  <tbody>\n",
       "    <tr>\n",
       "      <th>2015/1</th>\n",
       "      <td>29.26</td>\n",
       "      <td>22.06</td>\n",
       "      <td>68.25</td>\n",
       "      <td>0.0</td>\n",
       "      <td>100.86</td>\n",
       "      <td>3.23</td>\n",
       "    </tr>\n",
       "    <tr>\n",
       "      <th>2015/2</th>\n",
       "      <td>29.41</td>\n",
       "      <td>22.87</td>\n",
       "      <td>73.25</td>\n",
       "      <td>0.0</td>\n",
       "      <td>100.94</td>\n",
       "      <td>1.73</td>\n",
       "    </tr>\n",
       "    <tr>\n",
       "      <th>2015/3</th>\n",
       "      <td>29.01</td>\n",
       "      <td>22.63</td>\n",
       "      <td>78.69</td>\n",
       "      <td>0.0</td>\n",
       "      <td>101.06</td>\n",
       "      <td>2.48</td>\n",
       "    </tr>\n",
       "    <tr>\n",
       "      <th>2015/4</th>\n",
       "      <td>27.27</td>\n",
       "      <td>19.92</td>\n",
       "      <td>63.69</td>\n",
       "      <td>0.0</td>\n",
       "      <td>101.09</td>\n",
       "      <td>4.78</td>\n",
       "    </tr>\n",
       "    <tr>\n",
       "      <th>2015/5</th>\n",
       "      <td>27.27</td>\n",
       "      <td>18.18</td>\n",
       "      <td>59.44</td>\n",
       "      <td>0.0</td>\n",
       "      <td>101.04</td>\n",
       "      <td>4.24</td>\n",
       "    </tr>\n",
       "  </tbody>\n",
       "</table>\n",
       "</div>"
      ],
      "text/plain": [
       "        T2M_MAX  T2M_MIN   RH2M  PRECTOTCORR      PS  WS10M_RANGE\n",
       "DATE                                                             \n",
       "2015/1    29.26    22.06  68.25          0.0  100.86         3.23\n",
       "2015/2    29.41    22.87  73.25          0.0  100.94         1.73\n",
       "2015/3    29.01    22.63  78.69          0.0  101.06         2.48\n",
       "2015/4    27.27    19.92  63.69          0.0  101.09         4.78\n",
       "2015/5    27.27    18.18  59.44          0.0  101.04         4.24"
      ]
     },
     "execution_count": 9,
     "metadata": {},
     "output_type": "execute_result"
    }
   ],
   "source": [
    "# Set the index to date sice it is unique\n",
    "df.set_index(['DATE'], inplace=True)\n",
    "df.head()"
   ]
  },
  {
   "cell_type": "markdown",
   "id": "90dcb3e0",
   "metadata": {},
   "source": [
    "#### Taking a lookk at the data"
   ]
  },
  {
   "cell_type": "code",
   "execution_count": 10,
   "id": "fa08b403",
   "metadata": {},
   "outputs": [
    {
     "data": {
      "text/plain": [
       "T2M_MAX        float64\n",
       "T2M_MIN        float64\n",
       "RH2M           float64\n",
       "PRECTOTCORR    float64\n",
       "PS             float64\n",
       "WS10M_RANGE    float64\n",
       "dtype: object"
      ]
     },
     "execution_count": 10,
     "metadata": {},
     "output_type": "execute_result"
    }
   ],
   "source": [
    "df.dtypes"
   ]
  },
  {
   "cell_type": "code",
   "execution_count": 11,
   "id": "9788f314",
   "metadata": {},
   "outputs": [
    {
     "name": "stdout",
     "output_type": "stream",
     "text": [
      "<class 'pandas.core.frame.DataFrame'>\n",
      "Index: 2920 entries, 2015/1 to 2022/363\n",
      "Data columns (total 6 columns):\n",
      " #   Column       Non-Null Count  Dtype  \n",
      "---  ------       --------------  -----  \n",
      " 0   T2M_MAX      2920 non-null   float64\n",
      " 1   T2M_MIN      2920 non-null   float64\n",
      " 2   RH2M         2920 non-null   float64\n",
      " 3   PRECTOTCORR  2920 non-null   float64\n",
      " 4   PS           2920 non-null   float64\n",
      " 5   WS10M_RANGE  2920 non-null   float64\n",
      "dtypes: float64(6)\n",
      "memory usage: 159.7+ KB\n"
     ]
    }
   ],
   "source": [
    "df.info()"
   ]
  },
  {
   "cell_type": "code",
   "execution_count": 12,
   "id": "4ace111f",
   "metadata": {},
   "outputs": [
    {
     "data": {
      "text/plain": [
       "(2920, 6)"
      ]
     },
     "execution_count": 12,
     "metadata": {},
     "output_type": "execute_result"
    }
   ],
   "source": [
    "df.shape"
   ]
  },
  {
   "cell_type": "code",
   "execution_count": 13,
   "id": "4432d601",
   "metadata": {},
   "outputs": [
    {
     "data": {
      "text/plain": [
       "T2M_MAX        False\n",
       "T2M_MIN        False\n",
       "RH2M           False\n",
       "PRECTOTCORR    False\n",
       "PS             False\n",
       "WS10M_RANGE    False\n",
       "dtype: bool"
      ]
     },
     "execution_count": 13,
     "metadata": {},
     "output_type": "execute_result"
    }
   ],
   "source": [
    "df.isnull().any()"
   ]
  },
  {
   "cell_type": "code",
   "execution_count": 14,
   "id": "fb422878",
   "metadata": {},
   "outputs": [
    {
     "data": {
      "text/html": [
       "<div>\n",
       "<style scoped>\n",
       "    .dataframe tbody tr th:only-of-type {\n",
       "        vertical-align: middle;\n",
       "    }\n",
       "\n",
       "    .dataframe tbody tr th {\n",
       "        vertical-align: top;\n",
       "    }\n",
       "\n",
       "    .dataframe thead th {\n",
       "        text-align: right;\n",
       "    }\n",
       "</style>\n",
       "<table border=\"1\" class=\"dataframe\">\n",
       "  <thead>\n",
       "    <tr style=\"text-align: right;\">\n",
       "      <th></th>\n",
       "      <th>T2M_MAX</th>\n",
       "      <th>T2M_MIN</th>\n",
       "      <th>RH2M</th>\n",
       "      <th>PRECTOTCORR</th>\n",
       "      <th>PS</th>\n",
       "      <th>WS10M_RANGE</th>\n",
       "    </tr>\n",
       "    <tr>\n",
       "      <th>DATE</th>\n",
       "      <th></th>\n",
       "      <th></th>\n",
       "      <th></th>\n",
       "      <th></th>\n",
       "      <th></th>\n",
       "      <th></th>\n",
       "    </tr>\n",
       "  </thead>\n",
       "  <tbody>\n",
       "    <tr>\n",
       "      <th>2022/359</th>\n",
       "      <td>28.88</td>\n",
       "      <td>20.81</td>\n",
       "      <td>62.06</td>\n",
       "      <td>0.0</td>\n",
       "      <td>100.88</td>\n",
       "      <td>2.57</td>\n",
       "    </tr>\n",
       "    <tr>\n",
       "      <th>2022/360</th>\n",
       "      <td>29.15</td>\n",
       "      <td>21.19</td>\n",
       "      <td>67.00</td>\n",
       "      <td>0.0</td>\n",
       "      <td>100.87</td>\n",
       "      <td>2.03</td>\n",
       "    </tr>\n",
       "    <tr>\n",
       "      <th>2022/361</th>\n",
       "      <td>-999.00</td>\n",
       "      <td>-999.00</td>\n",
       "      <td>-999.00</td>\n",
       "      <td>-999.0</td>\n",
       "      <td>-999.00</td>\n",
       "      <td>-999.00</td>\n",
       "    </tr>\n",
       "    <tr>\n",
       "      <th>2022/362</th>\n",
       "      <td>-999.00</td>\n",
       "      <td>-999.00</td>\n",
       "      <td>-999.00</td>\n",
       "      <td>-999.0</td>\n",
       "      <td>-999.00</td>\n",
       "      <td>-999.00</td>\n",
       "    </tr>\n",
       "    <tr>\n",
       "      <th>2022/363</th>\n",
       "      <td>-999.00</td>\n",
       "      <td>-999.00</td>\n",
       "      <td>-999.00</td>\n",
       "      <td>-999.0</td>\n",
       "      <td>-999.00</td>\n",
       "      <td>-999.00</td>\n",
       "    </tr>\n",
       "  </tbody>\n",
       "</table>\n",
       "</div>"
      ],
      "text/plain": [
       "          T2M_MAX  T2M_MIN    RH2M  PRECTOTCORR      PS  WS10M_RANGE\n",
       "DATE                                                                \n",
       "2022/359    28.88    20.81   62.06          0.0  100.88         2.57\n",
       "2022/360    29.15    21.19   67.00          0.0  100.87         2.03\n",
       "2022/361  -999.00  -999.00 -999.00       -999.0 -999.00      -999.00\n",
       "2022/362  -999.00  -999.00 -999.00       -999.0 -999.00      -999.00\n",
       "2022/363  -999.00  -999.00 -999.00       -999.0 -999.00      -999.00"
      ]
     },
     "execution_count": 14,
     "metadata": {},
     "output_type": "execute_result"
    }
   ],
   "source": [
    "df.tail()"
   ]
  },
  {
   "cell_type": "code",
   "execution_count": 15,
   "id": "ecf680f8",
   "metadata": {},
   "outputs": [
    {
     "data": {
      "text/html": [
       "<div>\n",
       "<style scoped>\n",
       "    .dataframe tbody tr th:only-of-type {\n",
       "        vertical-align: middle;\n",
       "    }\n",
       "\n",
       "    .dataframe tbody tr th {\n",
       "        vertical-align: top;\n",
       "    }\n",
       "\n",
       "    .dataframe thead th {\n",
       "        text-align: right;\n",
       "    }\n",
       "</style>\n",
       "<table border=\"1\" class=\"dataframe\">\n",
       "  <thead>\n",
       "    <tr style=\"text-align: right;\">\n",
       "      <th></th>\n",
       "      <th>T2M_MAX</th>\n",
       "      <th>T2M_MIN</th>\n",
       "      <th>RH2M</th>\n",
       "      <th>PRECTOTCORR</th>\n",
       "      <th>PS</th>\n",
       "      <th>WS10M_RANGE</th>\n",
       "    </tr>\n",
       "  </thead>\n",
       "  <tbody>\n",
       "    <tr>\n",
       "      <th>count</th>\n",
       "      <td>2920.000000</td>\n",
       "      <td>2920.000000</td>\n",
       "      <td>2920.000000</td>\n",
       "      <td>2920.000000</td>\n",
       "      <td>2920.000000</td>\n",
       "      <td>2920.000000</td>\n",
       "    </tr>\n",
       "    <tr>\n",
       "      <th>mean</th>\n",
       "      <td>26.696068</td>\n",
       "      <td>22.672322</td>\n",
       "      <td>83.096161</td>\n",
       "      <td>2.111928</td>\n",
       "      <td>98.567894</td>\n",
       "      <td>-0.246027</td>\n",
       "    </tr>\n",
       "    <tr>\n",
       "      <th>std</th>\n",
       "      <td>46.567685</td>\n",
       "      <td>46.389371</td>\n",
       "      <td>49.413058</td>\n",
       "      <td>46.063713</td>\n",
       "      <td>49.812568</td>\n",
       "      <td>45.332877</td>\n",
       "    </tr>\n",
       "    <tr>\n",
       "      <th>min</th>\n",
       "      <td>-999.000000</td>\n",
       "      <td>-999.000000</td>\n",
       "      <td>-999.000000</td>\n",
       "      <td>-999.000000</td>\n",
       "      <td>-999.000000</td>\n",
       "      <td>-999.000000</td>\n",
       "    </tr>\n",
       "    <tr>\n",
       "      <th>25%</th>\n",
       "      <td>27.830000</td>\n",
       "      <td>24.010000</td>\n",
       "      <td>84.000000</td>\n",
       "      <td>0.360000</td>\n",
       "      <td>100.710000</td>\n",
       "      <td>1.280000</td>\n",
       "    </tr>\n",
       "    <tr>\n",
       "      <th>50%</th>\n",
       "      <td>28.910000</td>\n",
       "      <td>24.980000</td>\n",
       "      <td>86.380000</td>\n",
       "      <td>1.870000</td>\n",
       "      <td>100.820000</td>\n",
       "      <td>1.730000</td>\n",
       "    </tr>\n",
       "    <tr>\n",
       "      <th>75%</th>\n",
       "      <td>29.800000</td>\n",
       "      <td>25.790000</td>\n",
       "      <td>88.560000</td>\n",
       "      <td>4.980000</td>\n",
       "      <td>100.950000</td>\n",
       "      <td>2.230000</td>\n",
       "    </tr>\n",
       "    <tr>\n",
       "      <th>max</th>\n",
       "      <td>32.180000</td>\n",
       "      <td>27.500000</td>\n",
       "      <td>93.810000</td>\n",
       "      <td>166.100000</td>\n",
       "      <td>101.350000</td>\n",
       "      <td>4.780000</td>\n",
       "    </tr>\n",
       "  </tbody>\n",
       "</table>\n",
       "</div>"
      ],
      "text/plain": [
       "           T2M_MAX      T2M_MIN         RH2M  PRECTOTCORR           PS  \\\n",
       "count  2920.000000  2920.000000  2920.000000  2920.000000  2920.000000   \n",
       "mean     26.696068    22.672322    83.096161     2.111928    98.567894   \n",
       "std      46.567685    46.389371    49.413058    46.063713    49.812568   \n",
       "min    -999.000000  -999.000000  -999.000000  -999.000000  -999.000000   \n",
       "25%      27.830000    24.010000    84.000000     0.360000   100.710000   \n",
       "50%      28.910000    24.980000    86.380000     1.870000   100.820000   \n",
       "75%      29.800000    25.790000    88.560000     4.980000   100.950000   \n",
       "max      32.180000    27.500000    93.810000   166.100000   101.350000   \n",
       "\n",
       "       WS10M_RANGE  \n",
       "count  2920.000000  \n",
       "mean     -0.246027  \n",
       "std      45.332877  \n",
       "min    -999.000000  \n",
       "25%       1.280000  \n",
       "50%       1.730000  \n",
       "75%       2.230000  \n",
       "max       4.780000  "
      ]
     },
     "execution_count": 15,
     "metadata": {},
     "output_type": "execute_result"
    }
   ],
   "source": [
    "df.describe()"
   ]
  },
  {
   "cell_type": "code",
   "execution_count": 16,
   "id": "1cafdf03",
   "metadata": {},
   "outputs": [
    {
     "name": "stdout",
     "output_type": "stream",
     "text": [
      "Scaled df: \n",
      " [[0.99716829 0.99470044 0.97661076 0.85743713 0.99955469 0.99845584]\n",
      " [0.99731376 0.99548953 0.98118612 0.85743713 0.99962739 0.99696149]\n",
      " [0.99692585 0.99525572 0.98616411 0.85743713 0.99973645 0.99770866]\n",
      " ...\n",
      " [0.         0.         0.         0.         0.         0.        ]\n",
      " [0.         0.         0.         0.         0.         0.        ]\n",
      " [0.         0.         0.         0.         0.         0.        ]] \n",
      " (2920, 6)\n"
     ]
    }
   ],
   "source": [
    "# Scaling the data - Normalize (0-1) or standardize (gaussian data)\n",
    "from sklearn.preprocessing import MinMaxScaler\n",
    "scaler = MinMaxScaler()\n",
    "df_scaled = scaler.fit_transform(df)\n",
    "print('Scaled df: \\n', df_scaled, '\\n', df_scaled.shape)"
   ]
  },
  {
   "cell_type": "code",
   "execution_count": 17,
   "id": "eddc15b0",
   "metadata": {},
   "outputs": [],
   "source": [
    "# splitting the dataset. Train - Test\n",
    "\n",
    "from sklearn.model_selection import train_test_split\n",
    "\n",
    "train, test = train_test_split(df_scaled, test_size=0.2, shuffle=False)\n",
    "\n",
    "# x - y\n",
    "x_train, y_train, x_test, y_test = [], [], [], []\n",
    "\n",
    "for i in range (1, len(train)):\n",
    "    x_train.append(train[i-1])\n",
    "    y_train.append(train[i])\n",
    "for i in range(1, len(test)):\n",
    "    x_test.append(test[i-1])\n",
    "    y_test.append(test[i])"
   ]
  },
  {
   "cell_type": "code",
   "execution_count": 18,
   "id": "88142e5e",
   "metadata": {},
   "outputs": [
    {
     "data": {
      "text/html": [
       "<div>\n",
       "<style scoped>\n",
       "    .dataframe tbody tr th:only-of-type {\n",
       "        vertical-align: middle;\n",
       "    }\n",
       "\n",
       "    .dataframe tbody tr th {\n",
       "        vertical-align: top;\n",
       "    }\n",
       "\n",
       "    .dataframe thead th {\n",
       "        text-align: right;\n",
       "    }\n",
       "</style>\n",
       "<table border=\"1\" class=\"dataframe\">\n",
       "  <thead>\n",
       "    <tr style=\"text-align: right;\">\n",
       "      <th></th>\n",
       "      <th>0</th>\n",
       "      <th>1</th>\n",
       "      <th>2</th>\n",
       "      <th>3</th>\n",
       "      <th>4</th>\n",
       "      <th>5</th>\n",
       "    </tr>\n",
       "  </thead>\n",
       "  <tbody>\n",
       "    <tr>\n",
       "      <th>0</th>\n",
       "      <td>0.997168</td>\n",
       "      <td>0.994700</td>\n",
       "      <td>0.976611</td>\n",
       "      <td>0.857437</td>\n",
       "      <td>0.999555</td>\n",
       "      <td>0.998456</td>\n",
       "    </tr>\n",
       "    <tr>\n",
       "      <th>1</th>\n",
       "      <td>0.997314</td>\n",
       "      <td>0.995490</td>\n",
       "      <td>0.981186</td>\n",
       "      <td>0.857437</td>\n",
       "      <td>0.999627</td>\n",
       "      <td>0.996961</td>\n",
       "    </tr>\n",
       "    <tr>\n",
       "      <th>2</th>\n",
       "      <td>0.996926</td>\n",
       "      <td>0.995256</td>\n",
       "      <td>0.986164</td>\n",
       "      <td>0.857437</td>\n",
       "      <td>0.999736</td>\n",
       "      <td>0.997709</td>\n",
       "    </tr>\n",
       "    <tr>\n",
       "      <th>3</th>\n",
       "      <td>0.995238</td>\n",
       "      <td>0.992616</td>\n",
       "      <td>0.972438</td>\n",
       "      <td>0.857437</td>\n",
       "      <td>0.999764</td>\n",
       "      <td>1.000000</td>\n",
       "    </tr>\n",
       "    <tr>\n",
       "      <th>4</th>\n",
       "      <td>0.995238</td>\n",
       "      <td>0.990921</td>\n",
       "      <td>0.968549</td>\n",
       "      <td>0.857437</td>\n",
       "      <td>0.999718</td>\n",
       "      <td>0.999462</td>\n",
       "    </tr>\n",
       "    <tr>\n",
       "      <th>...</th>\n",
       "      <td>...</td>\n",
       "      <td>...</td>\n",
       "      <td>...</td>\n",
       "      <td>...</td>\n",
       "      <td>...</td>\n",
       "      <td>...</td>\n",
       "    </tr>\n",
       "    <tr>\n",
       "      <th>2330</th>\n",
       "      <td>0.997711</td>\n",
       "      <td>0.998363</td>\n",
       "      <td>0.991655</td>\n",
       "      <td>0.857798</td>\n",
       "      <td>0.999537</td>\n",
       "      <td>0.996832</td>\n",
       "    </tr>\n",
       "    <tr>\n",
       "      <th>2331</th>\n",
       "      <td>0.997275</td>\n",
       "      <td>0.998802</td>\n",
       "      <td>0.992798</td>\n",
       "      <td>0.858313</td>\n",
       "      <td>0.999573</td>\n",
       "      <td>0.996633</td>\n",
       "    </tr>\n",
       "    <tr>\n",
       "      <th>2332</th>\n",
       "      <td>0.996441</td>\n",
       "      <td>0.998363</td>\n",
       "      <td>0.994455</td>\n",
       "      <td>0.860415</td>\n",
       "      <td>0.999591</td>\n",
       "      <td>0.996005</td>\n",
       "    </tr>\n",
       "    <tr>\n",
       "      <th>2333</th>\n",
       "      <td>0.996480</td>\n",
       "      <td>0.998305</td>\n",
       "      <td>0.993421</td>\n",
       "      <td>0.859154</td>\n",
       "      <td>0.999664</td>\n",
       "      <td>0.998705</td>\n",
       "    </tr>\n",
       "    <tr>\n",
       "      <th>2334</th>\n",
       "      <td>0.998177</td>\n",
       "      <td>0.997496</td>\n",
       "      <td>0.989193</td>\n",
       "      <td>0.858235</td>\n",
       "      <td>0.999609</td>\n",
       "      <td>0.997460</td>\n",
       "    </tr>\n",
       "  </tbody>\n",
       "</table>\n",
       "<p>2335 rows × 6 columns</p>\n",
       "</div>"
      ],
      "text/plain": [
       "             0         1         2         3         4         5\n",
       "0     0.997168  0.994700  0.976611  0.857437  0.999555  0.998456\n",
       "1     0.997314  0.995490  0.981186  0.857437  0.999627  0.996961\n",
       "2     0.996926  0.995256  0.986164  0.857437  0.999736  0.997709\n",
       "3     0.995238  0.992616  0.972438  0.857437  0.999764  1.000000\n",
       "4     0.995238  0.990921  0.968549  0.857437  0.999718  0.999462\n",
       "...        ...       ...       ...       ...       ...       ...\n",
       "2330  0.997711  0.998363  0.991655  0.857798  0.999537  0.996832\n",
       "2331  0.997275  0.998802  0.992798  0.858313  0.999573  0.996633\n",
       "2332  0.996441  0.998363  0.994455  0.860415  0.999591  0.996005\n",
       "2333  0.996480  0.998305  0.993421  0.859154  0.999664  0.998705\n",
       "2334  0.998177  0.997496  0.989193  0.858235  0.999609  0.997460\n",
       "\n",
       "[2335 rows x 6 columns]"
      ]
     },
     "execution_count": 18,
     "metadata": {},
     "output_type": "execute_result"
    }
   ],
   "source": [
    "pd.DataFrame(x_train)"
   ]
  },
  {
   "cell_type": "code",
   "execution_count": 19,
   "id": "9d0db800",
   "metadata": {},
   "outputs": [
    {
     "data": {
      "text/html": [
       "<div>\n",
       "<style scoped>\n",
       "    .dataframe tbody tr th:only-of-type {\n",
       "        vertical-align: middle;\n",
       "    }\n",
       "\n",
       "    .dataframe tbody tr th {\n",
       "        vertical-align: top;\n",
       "    }\n",
       "\n",
       "    .dataframe thead th {\n",
       "        text-align: right;\n",
       "    }\n",
       "</style>\n",
       "<table border=\"1\" class=\"dataframe\">\n",
       "  <thead>\n",
       "    <tr style=\"text-align: right;\">\n",
       "      <th></th>\n",
       "      <th>0</th>\n",
       "      <th>1</th>\n",
       "      <th>2</th>\n",
       "      <th>3</th>\n",
       "      <th>4</th>\n",
       "      <th>5</th>\n",
       "    </tr>\n",
       "  </thead>\n",
       "  <tbody>\n",
       "    <tr>\n",
       "      <th>0</th>\n",
       "      <td>0.997314</td>\n",
       "      <td>0.995490</td>\n",
       "      <td>0.981186</td>\n",
       "      <td>0.857437</td>\n",
       "      <td>0.999627</td>\n",
       "      <td>0.996961</td>\n",
       "    </tr>\n",
       "    <tr>\n",
       "      <th>1</th>\n",
       "      <td>0.996926</td>\n",
       "      <td>0.995256</td>\n",
       "      <td>0.986164</td>\n",
       "      <td>0.857437</td>\n",
       "      <td>0.999736</td>\n",
       "      <td>0.997709</td>\n",
       "    </tr>\n",
       "    <tr>\n",
       "      <th>2</th>\n",
       "      <td>0.995238</td>\n",
       "      <td>0.992616</td>\n",
       "      <td>0.972438</td>\n",
       "      <td>0.857437</td>\n",
       "      <td>0.999764</td>\n",
       "      <td>1.000000</td>\n",
       "    </tr>\n",
       "    <tr>\n",
       "      <th>3</th>\n",
       "      <td>0.995238</td>\n",
       "      <td>0.990921</td>\n",
       "      <td>0.968549</td>\n",
       "      <td>0.857437</td>\n",
       "      <td>0.999718</td>\n",
       "      <td>0.999462</td>\n",
       "    </tr>\n",
       "    <tr>\n",
       "      <th>4</th>\n",
       "      <td>0.993784</td>\n",
       "      <td>0.990774</td>\n",
       "      <td>0.971404</td>\n",
       "      <td>0.857437</td>\n",
       "      <td>0.999682</td>\n",
       "      <td>0.997569</td>\n",
       "    </tr>\n",
       "    <tr>\n",
       "      <th>...</th>\n",
       "      <td>...</td>\n",
       "      <td>...</td>\n",
       "      <td>...</td>\n",
       "      <td>...</td>\n",
       "      <td>...</td>\n",
       "      <td>...</td>\n",
       "    </tr>\n",
       "    <tr>\n",
       "      <th>2330</th>\n",
       "      <td>0.997275</td>\n",
       "      <td>0.998802</td>\n",
       "      <td>0.992798</td>\n",
       "      <td>0.858313</td>\n",
       "      <td>0.999573</td>\n",
       "      <td>0.996633</td>\n",
       "    </tr>\n",
       "    <tr>\n",
       "      <th>2331</th>\n",
       "      <td>0.996441</td>\n",
       "      <td>0.998363</td>\n",
       "      <td>0.994455</td>\n",
       "      <td>0.860415</td>\n",
       "      <td>0.999591</td>\n",
       "      <td>0.996005</td>\n",
       "    </tr>\n",
       "    <tr>\n",
       "      <th>2332</th>\n",
       "      <td>0.996480</td>\n",
       "      <td>0.998305</td>\n",
       "      <td>0.993421</td>\n",
       "      <td>0.859154</td>\n",
       "      <td>0.999664</td>\n",
       "      <td>0.998705</td>\n",
       "    </tr>\n",
       "    <tr>\n",
       "      <th>2333</th>\n",
       "      <td>0.998177</td>\n",
       "      <td>0.997496</td>\n",
       "      <td>0.989193</td>\n",
       "      <td>0.858235</td>\n",
       "      <td>0.999609</td>\n",
       "      <td>0.997460</td>\n",
       "    </tr>\n",
       "    <tr>\n",
       "      <th>2334</th>\n",
       "      <td>0.998041</td>\n",
       "      <td>0.998587</td>\n",
       "      <td>0.991197</td>\n",
       "      <td>0.858982</td>\n",
       "      <td>0.999564</td>\n",
       "      <td>0.996075</td>\n",
       "    </tr>\n",
       "  </tbody>\n",
       "</table>\n",
       "<p>2335 rows × 6 columns</p>\n",
       "</div>"
      ],
      "text/plain": [
       "             0         1         2         3         4         5\n",
       "0     0.997314  0.995490  0.981186  0.857437  0.999627  0.996961\n",
       "1     0.996926  0.995256  0.986164  0.857437  0.999736  0.997709\n",
       "2     0.995238  0.992616  0.972438  0.857437  0.999764  1.000000\n",
       "3     0.995238  0.990921  0.968549  0.857437  0.999718  0.999462\n",
       "4     0.993784  0.990774  0.971404  0.857437  0.999682  0.997569\n",
       "...        ...       ...       ...       ...       ...       ...\n",
       "2330  0.997275  0.998802  0.992798  0.858313  0.999573  0.996633\n",
       "2331  0.996441  0.998363  0.994455  0.860415  0.999591  0.996005\n",
       "2332  0.996480  0.998305  0.993421  0.859154  0.999664  0.998705\n",
       "2333  0.998177  0.997496  0.989193  0.858235  0.999609  0.997460\n",
       "2334  0.998041  0.998587  0.991197  0.858982  0.999564  0.996075\n",
       "\n",
       "[2335 rows x 6 columns]"
      ]
     },
     "execution_count": 19,
     "metadata": {},
     "output_type": "execute_result"
    }
   ],
   "source": [
    "pd.DataFrame(y_train)"
   ]
  },
  {
   "cell_type": "code",
   "execution_count": 20,
   "id": "bdb201c3",
   "metadata": {},
   "outputs": [
    {
     "data": {
      "text/plain": [
       "((2335, 6), (2335, 6), (583, 6), (583, 6))"
      ]
     },
     "execution_count": 20,
     "metadata": {},
     "output_type": "execute_result"
    }
   ],
   "source": [
    "# Converting list to array\n",
    "x_train, y_train = np.array(x_train), np.array(y_train)\n",
    "x_test, y_test = np.array(x_test), np.array(y_test)\n",
    "\n",
    "x_train.shape, y_train.shape, x_test.shape, y_test.shape"
   ]
  },
  {
   "cell_type": "code",
   "execution_count": 21,
   "id": "0f728762",
   "metadata": {},
   "outputs": [],
   "source": [
    "from keras.models import Sequential\n",
    "from keras.layers import Dense, Activation\n",
    "from keras.optimizers import Adam\n",
    "from keras.models import load_model\n",
    "from keras.layers import Dropout"
   ]
  },
  {
   "cell_type": "code",
   "execution_count": 22,
   "id": "f7a25344",
   "metadata": {},
   "outputs": [
    {
     "name": "stdout",
     "output_type": "stream",
     "text": [
      "Model: \"sequential\"\n",
      "_________________________________________________________________\n",
      " Layer (type)                Output Shape              Param #   \n",
      "=================================================================\n",
      " dense (Dense)               (None, 6)                 42        \n",
      "                                                                 \n",
      " dense_1 (Dense)             (None, 1)                 7         \n",
      "                                                                 \n",
      " dense_2 (Dense)             (None, 1)                 2         \n",
      "                                                                 \n",
      " dense_3 (Dense)             (None, 6)                 12        \n",
      "                                                                 \n",
      "=================================================================\n",
      "Total params: 63\n",
      "Trainable params: 63\n",
      "Non-trainable params: 0\n",
      "_________________________________________________________________\n"
     ]
    }
   ],
   "source": [
    "# define model\n",
    "model = Sequential()\n",
    "\n",
    "model.add(Dense(6, input_dim=6, activation='relu'))\n",
    "model.add(Dense(1, activation='relu'))\n",
    "model.add(Dense(1, activation='relu'))\n",
    "model.add(Dense(6))\n",
    "\n",
    "model.summary()\n",
    "\n",
    "# compile model\n",
    "model.compile(optimizer='adam', loss='mse', metrics=['accuracy'])"
   ]
  },
  {
   "cell_type": "code",
   "execution_count": 23,
   "id": "a62827c6",
   "metadata": {},
   "outputs": [
    {
     "name": "stdout",
     "output_type": "stream",
     "text": [
      "Epoch 1/10\n",
      "234/234 [==============================] - 5s 6ms/step - loss: 0.7488 - accuracy: 0.0989 - val_loss: 0.5631 - val_accuracy: 0.9863\n",
      "Epoch 2/10\n",
      "234/234 [==============================] - 1s 3ms/step - loss: 0.4336 - accuracy: 0.9559 - val_loss: 0.3147 - val_accuracy: 0.9863\n",
      "Epoch 3/10\n",
      "234/234 [==============================] - 1s 3ms/step - loss: 0.2324 - accuracy: 0.9730 - val_loss: 0.1631 - val_accuracy: 0.9863\n",
      "Epoch 4/10\n",
      "234/234 [==============================] - 1s 4ms/step - loss: 0.1135 - accuracy: 0.9730 - val_loss: 0.0786 - val_accuracy: 0.9863\n",
      "Epoch 5/10\n",
      "234/234 [==============================] - 1s 4ms/step - loss: 0.0496 - accuracy: 0.9730 - val_loss: 0.0365 - val_accuracy: 0.9863\n",
      "Epoch 6/10\n",
      "234/234 [==============================] - 1s 3ms/step - loss: 0.0191 - accuracy: 0.9730 - val_loss: 0.0184 - val_accuracy: 0.9863\n",
      "Epoch 7/10\n",
      "234/234 [==============================] - 1s 4ms/step - loss: 0.0063 - accuracy: 0.9730 - val_loss: 0.0119 - val_accuracy: 0.9863\n",
      "Epoch 8/10\n",
      "234/234 [==============================] - 1s 4ms/step - loss: 0.0018 - accuracy: 0.9730 - val_loss: 0.0100 - val_accuracy: 0.9863\n",
      "Epoch 9/10\n",
      "234/234 [==============================] - 1s 4ms/step - loss: 4.2287e-04 - accuracy: 0.9730 - val_loss: 0.0097 - val_accuracy: 0.9863\n",
      "Epoch 10/10\n",
      "234/234 [==============================] - 1s 4ms/step - loss: 8.9283e-05 - accuracy: 0.9730 - val_loss: 0.0097 - val_accuracy: 0.9863\n"
     ]
    }
   ],
   "source": [
    "# fit the model\n",
    "history = model.fit(x_train, y_train, validation_data=(x_test, y_test), epochs=10, batch_size=10, shuffle=False)"
   ]
  },
  {
   "cell_type": "code",
   "execution_count": 24,
   "id": "9b5f5396",
   "metadata": {},
   "outputs": [
    {
     "name": "stdout",
     "output_type": "stream",
     "text": [
      "19/19 [==============================] - 0s 4ms/step\n"
     ]
    }
   ],
   "source": [
    "y_pred = model.predict(x_test)\n",
    "y_pred = scaler.inverse_transform(y_pred)\n",
    "actual_y_pred = scaler.inverse_transform(y_test)"
   ]
  },
  {
   "cell_type": "code",
   "execution_count": 25,
   "id": "5fc4153b",
   "metadata": {},
   "outputs": [
    {
     "data": {
      "image/png": "[encoded data removed]",
      "text/plain": [
       "<Figure size 1000x600 with 1 Axes>"
      ]
     },
     "metadata": {},
     "output_type": "display_data"
    }
   ],
   "source": [
    "plt.rcParams['figure.figsize'] = (10,6)\n",
    "plt.plot(history.history['accuracy'])\n",
    "plt.plot(history.history['val_accuracy'])\n",
    "plt.title(\"Training and Validation accurracy\")\n",
    "plt.xlabel('Epochs')\n",
    "plt.ylabel('Accuracy')\n",
    "plt.legend(['train', 'val'], loc='upper left')\n",
    "plt.show()"
   ]
  },
  {
   "cell_type": "code",
   "execution_count": 26,
   "id": "e42a953b",
   "metadata": {},
   "outputs": [
    {
     "data": {
      "image/png": "[encoded data removed]",
      "text/plain": [
       "<Figure size 1000x600 with 1 Axes>"
      ]
     },
     "metadata": {},
     "output_type": "display_data"
    }
   ],
   "source": [
    "plt.rcParams['figure.figsize'] = (10,6)\n",
    "plt.plot(history.history['loss'])\n",
    "plt.plot(history.history['val_loss'])\n",
    "plt.title(\"Training and Validation loss\")\n",
    "plt.xlabel('Epochs')\n",
    "plt.ylabel('Loss')\n",
    "plt.legend(['train', 'val'], loc='upper left')\n",
    "plt.show()"
   ]
  },
  {
   "cell_type": "code",
   "execution_count": 27,
   "id": "64c707bf",
   "metadata": {},
   "outputs": [
    {
     "name": "stdout",
     "output_type": "stream",
     "text": [
      "Actual values:\n",
      " T2M_MAX T2M_MIN RH2M PRECTOTCORR PS WS10M_RANGE\n",
      "          0       1       2       3       4       5\n",
      "0     28.84   26.34   89.44    2.24  100.80    0.95\n",
      "1     29.27   26.70   87.94    3.97  100.78    1.05\n",
      "2     28.90   26.07   86.50    2.88  100.78    1.02\n",
      "3     29.78   26.19   86.25    2.98  100.73    1.37\n",
      "4     29.69   26.38   87.12    4.24  100.64    1.16\n",
      "..      ...     ...     ...     ...     ...     ...\n",
      "578   28.88   20.81   62.06    0.00  100.88    2.57\n",
      "579   29.15   21.19   67.00    0.00  100.87    2.03\n",
      "580 -999.00 -999.00 -999.00 -999.00 -999.00 -999.00\n",
      "581 -999.00 -999.00 -999.00 -999.00 -999.00 -999.00\n",
      "582 -999.00 -999.00 -999.00 -999.00 -999.00 -999.00\n",
      "\n",
      "[583 rows x 6 columns]\n",
      "Predicted values\n",
      "T2M_MAX T2M_MIN RH2M PRECTOTCORR PS WS10M_RANGE\n",
      "             0          1         2         3         4         5\n",
      "0    23.064344  19.009352  79.47332  2.748861  94.48407 -3.838444\n",
      "1    23.064344  19.009352  79.47332  2.748861  94.48407 -3.838444\n",
      "2    23.064344  19.009352  79.47332  2.748861  94.48407 -3.838444\n",
      "3    23.064344  19.009352  79.47332  2.748861  94.48407 -3.838444\n",
      "4    23.064344  19.009352  79.47332  2.748861  94.48407 -3.838444\n",
      "..         ...        ...       ...       ...       ...       ...\n",
      "578  23.064344  19.009352  79.47332  2.748861  94.48407 -3.838444\n",
      "579  23.064344  19.009352  79.47332  2.748861  94.48407 -3.838444\n",
      "580  23.064344  19.009352  79.47332  2.748861  94.48407 -3.838444\n",
      "581  23.064344  19.009352  79.47332  2.748861  94.48407 -3.838444\n",
      "582  23.064344  19.009352  79.47332  2.748861  94.48407 -3.838444\n",
      "\n",
      "[583 rows x 6 columns]\n"
     ]
    }
   ],
   "source": [
    "print('Actual values:')\n",
    "print(' T2M_MAX T2M_MIN RH2M PRECTOTCORR PS WS10M_RANGE')\n",
    "print(pd.DataFrame(actual_y_pred))\n",
    "\n",
    "print('Predicted values')\n",
    "print('T2M_MAX T2M_MIN RH2M PRECTOTCORR PS WS10M_RANGE')\n",
    "print(pd.DataFrame(y_pred))"
   ]
  },
  {
   "cell_type": "code",
   "execution_count": 28,
   "id": "aa3ebfd0",
   "metadata": {},
   "outputs": [
    {
     "name": "stdout",
     "output_type": "stream",
     "text": [
      "accuracy: 100.00%\n"
     ]
    }
   ],
   "source": [
    "# Evaluating the model\n",
    "scores = model.evaluate(actual_y_pred, y_pred, verbose=0)\n",
    "print(\"%s: %.2f%%\" % (model.metrics_names[1], scores[1]*100))\n",
    "# print(f\"{model.metrics_names[1]}: {scores[1]*100}\")"
   ]
  },
  {
   "cell_type": "code",
   "execution_count": 29,
   "id": "4e435460",
   "metadata": {},
   "outputs": [],
   "source": [
    "T = range(y_pred.shape[0])"
   ]
  },
  {
   "cell_type": "code",
   "execution_count": 30,
   "id": "b4d63b28",
   "metadata": {},
   "outputs": [
    {
     "data": {
      "text/plain": [
       "Text(0, 0.5, 'Temperature')"
      ]
     },
     "execution_count": 30,
     "metadata": {},
     "output_type": "execute_result"
    },
    {
     "data": {
      "image/png": "[encoded data removed]",
      "text/plain": [
       "<Figure size 1000x600 with 1 Axes>"
      ]
     },
     "metadata": {},
     "output_type": "display_data"
    }
   ],
   "source": [
    "plt.plot(T, y_pred[:,0])\n",
    "plt.plot(T, actual_y_pred[:,0])\n",
    "plt.rcParams[\"figure.figsize\"] = (10,6)\n",
    "plt.title('Maximum Temperature')\n",
    "plt.xlabel('Values')\n",
    "plt.ylabel('Temperature')"
   ]
  },
  {
   "cell_type": "code",
   "execution_count": 31,
   "id": "e3c921ba",
   "metadata": {},
   "outputs": [
    {
     "data": {
      "text/plain": [
       "Text(0, 0.5, 'Temperature')"
      ]
     },
     "execution_count": 31,
     "metadata": {},
     "output_type": "execute_result"
    },
    {
     "data": {
      "image/png": "[encoded data removed]",
      "text/plain": [
       "<Figure size 1000x600 with 1 Axes>"
      ]
     },
     "metadata": {},
     "output_type": "display_data"
    }
   ],
   "source": [
    "plt.plot(T, y_pred[:,1])\n",
    "plt.plot(T, actual_y_pred[:,1])\n",
    "plt.rcParams[\"figure.figsize\"] = (10,6)\n",
    "plt.title('Minimum Temperature')\n",
    "plt.xlabel('Values')\n",
    "plt.ylabel('Temperature')"
   ]
  },
  {
   "cell_type": "code",
   "execution_count": 32,
   "id": "87b43bab",
   "metadata": {},
   "outputs": [
    {
     "data": {
      "text/plain": [
       "Text(0, 0.5, 'Humidity')"
      ]
     },
     "execution_count": 32,
     "metadata": {},
     "output_type": "execute_result"
    },
    {
     "data": {
      "image/png": "[encoded data removed]",
      "text/plain": [
       "<Figure size 1000x600 with 1 Axes>"
      ]
     },
     "metadata": {},
     "output_type": "display_data"
    }
   ],
   "source": [
    "plt.plot(T, y_pred[:,2])\n",
    "plt.plot(T, actual_y_pred[:,2])\n",
    "plt.rcParams[\"figure.figsize\"] = (10,6)\n",
    "plt.title('Relative Humidity')\n",
    "plt.xlabel('Values')\n",
    "plt.ylabel('Humidity')"
   ]
  },
  {
   "cell_type": "code",
   "execution_count": 33,
   "id": "e4ed006e",
   "metadata": {},
   "outputs": [
    {
     "data": {
      "text/plain": [
       "Text(0, 0.5, 'Precipitation')"
      ]
     },
     "execution_count": 33,
     "metadata": {},
     "output_type": "execute_result"
    },
    {
     "data": {
      "image/png": "[encoded data removed]",
      "text/plain": [
       "<Figure size 1000x600 with 1 Axes>"
      ]
     },
     "metadata": {},
     "output_type": "display_data"
    }
   ],
   "source": [
    "plt.plot(T, y_pred[:,3])\n",
    "plt.plot(T, actual_y_pred[:,3])\n",
    "plt.rcParams[\"figure.figsize\"] = (10,6)\n",
    "plt.title('Precipitation')\n",
    "plt.xlabel('Values')\n",
    "plt.ylabel('Precipitation')"
   ]
  },
  {
   "cell_type": "code",
   "execution_count": 34,
   "id": "2b5825ed",
   "metadata": {},
   "outputs": [
    {
     "data": {
      "text/plain": [
       "Text(0, 0.5, 'Surface Pressure')"
      ]
     },
     "execution_count": 34,
     "metadata": {},
     "output_type": "execute_result"
    },
    {
     "data": {
      "image/png": "[encoded data removed]",
      "text/plain": [
       "<Figure size 1000x600 with 1 Axes>"
      ]
     },
     "metadata": {},
     "output_type": "display_data"
    }
   ],
   "source": [
    "plt.plot(T, y_pred[:,4])\n",
    "plt.plot(T, actual_y_pred[:,4])\n",
    "plt.rcParams[\"figure.figsize\"] = (10,6)\n",
    "plt.title('Surface Pressure')\n",
    "plt.xlabel('Values')\n",
    "plt.ylabel('Surface Pressure')"
   ]
  },
  {
   "cell_type": "code",
   "execution_count": 35,
   "id": "6fa7b217",
   "metadata": {},
   "outputs": [
    {
     "data": {
      "text/plain": [
       "Text(0, 0.5, 'Wind Speed')"
      ]
     },
     "execution_count": 35,
     "metadata": {},
     "output_type": "execute_result"
    },
    {
     "data": {
      "image/png": "[encoded data removed]",
      "text/plain": [
       "<Figure size 1000x600 with 1 Axes>"
      ]
     },
     "metadata": {},
     "output_type": "display_data"
    }
   ],
   "source": [
    "plt.plot(T, y_pred[:,5])\n",
    "plt.plot(T, actual_y_pred[:,5])\n",
    "plt.rcParams[\"figure.figsize\"] = (10,6)\n",
    "plt.title('Wind Speed at 10M Range')\n",
    "plt.xlabel('Values')\n",
    "plt.ylabel('Wind Speed')"
   ]
  },
  {
   "cell_type": "code",
   "execution_count": 36,
   "id": "d2aa5390",
   "metadata": {},
   "outputs": [
    {
     "name": "stdout",
     "output_type": "stream",
     "text": [
      "66/66 [==============================] - 0s 3ms/step - loss: 3.2942e-05 - accuracy: 0.9705\n",
      "8/8 [==============================] - 0s 3ms/step\n",
      "66/66 [==============================] - 0s 3ms/step - loss: 2.3706e-05 - accuracy: 0.9757\n",
      "8/8 [==============================] - 0s 4ms/step\n",
      "66/66 [==============================] - 0s 3ms/step - loss: 1.8477e-05 - accuracy: 0.9733\n",
      "8/8 [==============================] - 0s 4ms/step\n",
      "66/66 [==============================] - 0s 4ms/step - loss: 1.5755e-05 - accuracy: 0.9719\n",
      "8/8 [==============================] - 0s 3ms/step\n",
      "66/66 [==============================] - 0s 3ms/step - loss: 1.4726e-05 - accuracy: 0.9710\n",
      "8/8 [==============================] - 0s 4ms/step\n",
      "66/66 [==============================] - 0s 3ms/step - loss: 1.3641e-05 - accuracy: 0.9710\n",
      "8/8 [==============================] - 0s 2ms/step\n",
      "66/66 [==============================] - 0s 4ms/step - loss: 1.3214e-05 - accuracy: 0.9791\n",
      "8/8 [==============================] - 0s 3ms/step\n",
      "66/66 [==============================] - 0s 3ms/step - loss: 1.1997e-05 - accuracy: 0.9705\n",
      "8/8 [==============================] - 0s 4ms/step\n",
      "66/66 [==============================] - 0s 4ms/step - loss: 1.0656e-05 - accuracy: 0.9748\n",
      "8/8 [==============================] - 0s 4ms/step\n",
      "66/66 [==============================] - 0s 4ms/step - loss: 1.3077e-05 - accuracy: 0.9724\n",
      "8/8 [==============================] - 0s 3ms/step\n"
     ]
    }
   ],
   "source": [
    "from sklearn.model_selection import KFold\n",
    "\n",
    "cv = KFold(n_splits=10, shuffle=False)\n",
    "\n",
    "# Iterate through cv splits\n",
    "result = []\n",
    "for tr, tt in cv.split(x_train, y_train):\n",
    "    # Fit the model on training data\n",
    "    model.fit(x_train[tr], y_train[tr])\n",
    "    \n",
    "    #Generate predictions on the test data and collect\n",
    "    prediction = model.predict(x_train[tt])\n",
    "    result.append((prediction, tt))"
   ]
  },
  {
   "cell_type": "code",
   "execution_count": 37,
   "id": "01c05c22",
   "metadata": {},
   "outputs": [
    {
     "name": "stdout",
     "output_type": "stream",
     "text": [
      "          T2M_MAX  T2M_MIN    RH2M  PRECTOTCORR      PS  WS10M_RANGE\n",
      "DATE                                                                \n",
      "2022/359    28.88    20.81   62.06          0.0  100.88         2.57\n",
      "2022/360    29.15    21.19   67.00          0.0  100.87         2.03\n",
      "2022/361  -999.00  -999.00 -999.00       -999.0 -999.00      -999.00\n",
      "2022/362  -999.00  -999.00 -999.00       -999.0 -999.00      -999.00\n",
      "2022/363  -999.00  -999.00 -999.00       -999.0 -999.00      -999.00\n",
      "Enter the weather parameters of previous day\n",
      "Enter Maximum Temperature: 28.88\n",
      "Enter Manimum Temperature: 20.81\n",
      "Enter Relative Humidity: 62.06\n",
      "Enter Precipitation: 0.0\n",
      "Enter Surface Pessure: 100.88\n",
      "Enter Wind Speed at 10M Range: 1.57\n",
      "Input Data:  [[ 28.88  20.81  62.06   0.   100.88   1.57]]\n",
      "Scaled Input Data:  [[0.99679978 0.99348271 0.97094646 0.85743713 0.99957286 0.99680209]]\n",
      "1/1 [==============================] - 0s 54ms/step\n",
      "Predicted Data: \n"
     ]
    },
    {
     "name": "stderr",
     "output_type": "stream",
     "text": [
      "C:\\Python310\\lib\\site-packages\\sklearn\\base.py:409: UserWarning: X does not have valid feature names, but MinMaxScaler was fitted with feature names\n",
      "  warnings.warn(\n"
     ]
    },
    {
     "data": {
      "text/html": [
       "<div>\n",
       "<style scoped>\n",
       "    .dataframe tbody tr th:only-of-type {\n",
       "        vertical-align: middle;\n",
       "    }\n",
       "\n",
       "    .dataframe tbody tr th {\n",
       "        vertical-align: top;\n",
       "    }\n",
       "\n",
       "    .dataframe thead th {\n",
       "        text-align: right;\n",
       "    }\n",
       "</style>\n",
       "<table border=\"1\" class=\"dataframe\">\n",
       "  <thead>\n",
       "    <tr style=\"text-align: right;\">\n",
       "      <th></th>\n",
       "      <th>0</th>\n",
       "      <th>1</th>\n",
       "      <th>2</th>\n",
       "      <th>3</th>\n",
       "      <th>4</th>\n",
       "      <th>5</th>\n",
       "    </tr>\n",
       "  </thead>\n",
       "  <tbody>\n",
       "    <tr>\n",
       "      <th>0</th>\n",
       "      <td>28.63739</td>\n",
       "      <td>24.573807</td>\n",
       "      <td>85.078255</td>\n",
       "      <td>4.009155</td>\n",
       "      <td>100.601074</td>\n",
       "      <td>1.624389</td>\n",
       "    </tr>\n",
       "  </tbody>\n",
       "</table>\n",
       "</div>"
      ],
      "text/plain": [
       "          0          1          2         3           4         5\n",
       "0  28.63739  24.573807  85.078255  4.009155  100.601074  1.624389"
      ]
     },
     "execution_count": 37,
     "metadata": {},
     "output_type": "execute_result"
    }
   ],
   "source": [
    "print(df.tail())\n",
    "\n",
    "input_data = []\n",
    "\n",
    "print(\"Enter the weather parameters of previous day\")\n",
    "\n",
    "attr1 = float(input(\"Enter Maximum Temperature: \"))\n",
    "attr2 = float(input(\"Enter Manimum Temperature: \"))\n",
    "attr3 = float(input(\"Enter Relative Humidity: \"))\n",
    "attr4 = float(input(\"Enter Precipitation: \"))\n",
    "attr5 = float(input(\"Enter Surface Pessure: \"))\n",
    "attr6 = float(input(\"Enter Wind Speed at 10M Range: \"))\n",
    "\n",
    "input_data.append(attr1)\n",
    "input_data.append(attr2)\n",
    "input_data.append(attr3)\n",
    "input_data.append(attr4)\n",
    "input_data.append(attr5)\n",
    "input_data.append(attr6)\n",
    "\n",
    "input_data = np.array(input_data)\n",
    "input_data.shape = (1, 6)\n",
    "print(\"Input Data: \", input_data)\n",
    "\n",
    "input_data = scaler.transform(input_data)\n",
    "print('Scaled Input Data: ', input_data)\n",
    "\n",
    "pred1 = model.predict(input_data)\n",
    "pred2 = scaler.inverse_transform(pred1)\n",
    "print(\"Predicted Data: \")\n",
    "pd.DataFrame(pred2)"
   ]
  },
  {
   "cell_type": "code",
   "execution_count": null,
   "id": "69a41ef8",
   "metadata": {},
   "outputs": [],
   "source": []
  }
 ],
 "metadata": {
  "kernelspec": {
   "display_name": "Python 3 (ipykernel)",
   "language": "python",
   "name": "python3"
  },
  "language_info": {
   "codemirror_mode": {
    "name": "ipython",
    "version": 3
   },
   "file_extension": ".py",
   "mimetype": "text/x-python",
   "name": "python",
   "nbconvert_exporter": "python",
   "pygments_lexer": "ipython3",
   "version": "3.10.1"
  }
 },
 "nbformat": 4,
 "nbformat_minor": 5
}
